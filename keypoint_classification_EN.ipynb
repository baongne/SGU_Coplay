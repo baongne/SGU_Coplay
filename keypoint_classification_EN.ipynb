{
 "cells": [
  {
   "cell_type": "code",
   "execution_count": 1,
   "metadata": {
    "id": "igMyGnjE9hEp",
    "scrolled": true
   },
   "outputs": [],
   "source": [
    "import csv\n",
    "\n",
    "import numpy as np\n",
    "import tensorflow as tf\n",
    "from sklearn.model_selection import train_test_split\n",
    "\n",
    "RANDOM_SEED = 42"
   ]
  },
  {
   "cell_type": "markdown",
   "metadata": {
    "id": "t2HDvhIu9hEr"
   },
   "source": [
    "# Specify each path"
   ]
  },
  {
   "cell_type": "code",
   "execution_count": 2,
   "metadata": {
    "id": "9NvZP2Zn9hEy"
   },
   "outputs": [],
   "source": [
    "dataset = 'model/keypoint_classifier/keypoint.csv'\n",
    "model_save_path = 'model/keypoint_classifier/keypoint_classifier.hdf5'\n",
    "tflite_save_path = 'model/keypoint_classifier/keypoint_classifier.tflite'"
   ]
  },
  {
   "cell_type": "markdown",
   "metadata": {
    "id": "s5oMH7x19hEz"
   },
   "source": [
    "# Set number of classes"
   ]
  },
  {
   "cell_type": "code",
   "execution_count": 3,
   "metadata": {
    "id": "du4kodXL9hEz"
   },
   "outputs": [],
   "source": [
    "NUM_CLASSES = 5"
   ]
  },
  {
   "cell_type": "markdown",
   "metadata": {
    "id": "XjnL0uso9hEz"
   },
   "source": [
    "# Dataset reading"
   ]
  },
  {
   "cell_type": "code",
   "execution_count": 4,
   "metadata": {
    "id": "QT5ZqtEz9hE0"
   },
   "outputs": [],
   "source": [
    "X_dataset = np.loadtxt(dataset, delimiter=',', dtype='float32', usecols=list(range(1, (21 * 2) + 1)))"
   ]
  },
  {
   "cell_type": "code",
   "execution_count": 5,
   "metadata": {
    "id": "QmoKFsp49hE0"
   },
   "outputs": [],
   "source": [
    "y_dataset = np.loadtxt(dataset, delimiter=',', dtype='int32', usecols=(0))"
   ]
  },
  {
   "cell_type": "code",
   "execution_count": 6,
   "metadata": {
    "id": "xQU7JTZ_9hE0"
   },
   "outputs": [],
   "source": [
    "X_train, X_test, y_train, y_test = train_test_split(X_dataset, y_dataset, train_size=0.75, random_state=RANDOM_SEED)"
   ]
  },
  {
   "cell_type": "markdown",
   "metadata": {
    "id": "mxK_lETT9hE0"
   },
   "source": [
    "# Model building"
   ]
  },
  {
   "cell_type": "code",
   "execution_count": 7,
   "metadata": {
    "id": "vHBmUf1t9hE1"
   },
   "outputs": [],
   "source": [
    "model = tf.keras.models.Sequential([\n",
    "    tf.keras.layers.Input((21 * 2, )),\n",
    "    tf.keras.layers.Dropout(0.2),\n",
    "    tf.keras.layers.Dense(20, activation='relu'),\n",
    "    tf.keras.layers.Dropout(0.4),\n",
    "    tf.keras.layers.Dense(10, activation='relu'),\n",
    "    tf.keras.layers.Dense(NUM_CLASSES, activation='softmax')\n",
    "])"
   ]
  },
  {
   "cell_type": "code",
   "execution_count": 8,
   "metadata": {
    "colab": {
     "base_uri": "https://localhost:8080/"
    },
    "id": "ypqky9tc9hE1",
    "outputId": "5db082bb-30e3-4110-bf63-a1ee777ecd46"
   },
   "outputs": [
    {
     "name": "stdout",
     "output_type": "stream",
     "text": [
      "Model: \"sequential\"\n",
      "_________________________________________________________________\n",
      " Layer (type)                Output Shape              Param #   \n",
      "=================================================================\n",
      " dropout (Dropout)           (None, 42)                0         \n",
      "                                                                 \n",
      " dense (Dense)               (None, 20)                860       \n",
      "                                                                 \n",
      " dropout_1 (Dropout)         (None, 20)                0         \n",
      "                                                                 \n",
      " dense_1 (Dense)             (None, 10)                210       \n",
      "                                                                 \n",
      " dense_2 (Dense)             (None, 5)                 55        \n",
      "                                                                 \n",
      "=================================================================\n",
      "Total params: 1125 (4.39 KB)\n",
      "Trainable params: 1125 (4.39 KB)\n",
      "Non-trainable params: 0 (0.00 Byte)\n",
      "_________________________________________________________________\n"
     ]
    }
   ],
   "source": [
    "model.summary()  # tf.keras.utils.plot_model(model, show_shapes=True)"
   ]
  },
  {
   "cell_type": "code",
   "execution_count": 9,
   "metadata": {
    "id": "MbMjOflQ9hE1"
   },
   "outputs": [],
   "source": [
    "# Model checkpoint callback\n",
    "cp_callback = tf.keras.callbacks.ModelCheckpoint(\n",
    "    model_save_path, verbose=1, save_weights_only=False)\n",
    "# Callback for early stopping\n",
    "es_callback = tf.keras.callbacks.EarlyStopping(patience=20, verbose=1)"
   ]
  },
  {
   "cell_type": "code",
   "execution_count": 10,
   "metadata": {
    "id": "c3Dac0M_9hE2"
   },
   "outputs": [],
   "source": [
    "# Model compilation\n",
    "model.compile(\n",
    "    optimizer='adam',\n",
    "    loss='sparse_categorical_crossentropy',\n",
    "    metrics=['accuracy']\n",
    ")"
   ]
  },
  {
   "cell_type": "markdown",
   "metadata": {
    "id": "7XI0j1Iu9hE2"
   },
   "source": [
    "# Model training"
   ]
  },
  {
   "cell_type": "code",
   "execution_count": 11,
   "metadata": {
    "colab": {
     "base_uri": "https://localhost:8080/"
    },
    "id": "WirBl-JE9hE3",
    "outputId": "71b30ca2-8294-4d9d-8aa2-800d90d399de",
    "scrolled": true
   },
   "outputs": [
    {
     "name": "stdout",
     "output_type": "stream",
     "text": [
      "Epoch 1/1000\n",
      " 1/30 [>.............................] - ETA: 20s - loss: 1.6770 - accuracy: 0.1875\n",
      "Epoch 1: saving model to model/keypoint_classifier\\keypoint_classifier.hdf5\n",
      "30/30 [==============================] - 1s 10ms/step - loss: 1.6303 - accuracy: 0.2327 - val_loss: 1.5000 - val_accuracy: 0.2580\n",
      "Epoch 2/1000\n",
      " 1/30 [>.............................] - ETA: 0s - loss: 1.5919 - accuracy: 0.2344\n",
      "Epoch 2: saving model to model/keypoint_classifier\\keypoint_classifier.hdf5\n",
      "30/30 [==============================] - 0s 4ms/step - loss: 1.5022 - accuracy: 0.3116 - val_loss: 1.4121 - val_accuracy: 0.3392\n",
      "Epoch 3/1000\n",
      " 1/30 [>.............................] - ETA: 0s - loss: 1.4552 - accuracy: 0.3438"
     ]
    },
    {
     "name": "stderr",
     "output_type": "stream",
     "text": [
      "C:\\Users\\Nguyen Ngoc Huy\\AppData\\Local\\Programs\\Python\\Python311\\Lib\\site-packages\\keras\\src\\engine\\training.py:3000: UserWarning: You are saving your model as an HDF5 file via `model.save()`. This file format is considered legacy. We recommend using instead the native Keras format, e.g. `model.save('my_model.keras')`.\n",
      "  saving_api.save_model(\n"
     ]
    },
    {
     "name": "stdout",
     "output_type": "stream",
     "text": [
      "\n",
      "Epoch 3: saving model to model/keypoint_classifier\\keypoint_classifier.hdf5\n",
      "30/30 [==============================] - 0s 4ms/step - loss: 1.4300 - accuracy: 0.3495 - val_loss: 1.3502 - val_accuracy: 0.3686\n",
      "Epoch 4/1000\n",
      " 1/30 [>.............................] - ETA: 0s - loss: 1.3665 - accuracy: 0.3984\n",
      "Epoch 4: saving model to model/keypoint_classifier\\keypoint_classifier.hdf5\n",
      "30/30 [==============================] - 0s 3ms/step - loss: 1.3779 - accuracy: 0.3708 - val_loss: 1.2930 - val_accuracy: 0.3997\n",
      "Epoch 5/1000\n",
      " 1/30 [>.............................] - ETA: 0s - loss: 1.3570 - accuracy: 0.3359\n",
      "Epoch 5: saving model to model/keypoint_classifier\\keypoint_classifier.hdf5\n",
      "30/30 [==============================] - 0s 3ms/step - loss: 1.3173 - accuracy: 0.4122 - val_loss: 1.2364 - val_accuracy: 0.4769\n",
      "Epoch 6/1000\n",
      " 1/30 [>.............................] - ETA: 0s - loss: 1.2927 - accuracy: 0.4453\n",
      "Epoch 6: saving model to model/keypoint_classifier\\keypoint_classifier.hdf5\n",
      "30/30 [==============================] - 0s 3ms/step - loss: 1.2664 - accuracy: 0.4507 - val_loss: 1.1736 - val_accuracy: 0.5725\n",
      "Epoch 7/1000\n",
      "29/30 [============================>.] - ETA: 0s - loss: 1.2120 - accuracy: 0.4682\n",
      "Epoch 7: saving model to model/keypoint_classifier\\keypoint_classifier.hdf5\n",
      "30/30 [==============================] - 0s 4ms/step - loss: 1.2106 - accuracy: 0.4683 - val_loss: 1.1070 - val_accuracy: 0.6059\n",
      "Epoch 8/1000\n",
      " 1/30 [>.............................] - ETA: 0s - loss: 1.1225 - accuracy: 0.5859\n",
      "Epoch 8: saving model to model/keypoint_classifier\\keypoint_classifier.hdf5\n",
      "30/30 [==============================] - 0s 4ms/step - loss: 1.1711 - accuracy: 0.5129 - val_loss: 1.0405 - val_accuracy: 0.6489\n",
      "Epoch 9/1000\n",
      " 1/30 [>.............................] - ETA: 0s - loss: 1.2149 - accuracy: 0.4297\n",
      "Epoch 9: saving model to model/keypoint_classifier\\keypoint_classifier.hdf5\n",
      "30/30 [==============================] - 0s 3ms/step - loss: 1.1401 - accuracy: 0.5108 - val_loss: 0.9840 - val_accuracy: 0.6791\n",
      "Epoch 10/1000\n",
      " 1/30 [>.............................] - ETA: 0s - loss: 1.1560 - accuracy: 0.4844\n",
      "Epoch 10: saving model to model/keypoint_classifier\\keypoint_classifier.hdf5\n",
      "30/30 [==============================] - 0s 3ms/step - loss: 1.0945 - accuracy: 0.5368 - val_loss: 0.9268 - val_accuracy: 0.6927\n",
      "Epoch 11/1000\n",
      " 1/30 [>.............................] - ETA: 0s - loss: 0.9714 - accuracy: 0.5703\n",
      "Epoch 11: saving model to model/keypoint_classifier\\keypoint_classifier.hdf5\n",
      "30/30 [==============================] - 0s 3ms/step - loss: 1.0555 - accuracy: 0.5533 - val_loss: 0.8700 - val_accuracy: 0.7022\n",
      "Epoch 12/1000\n",
      " 1/30 [>.............................] - ETA: 0s - loss: 1.0391 - accuracy: 0.5312\n",
      "Epoch 12: saving model to model/keypoint_classifier\\keypoint_classifier.hdf5\n",
      "30/30 [==============================] - 0s 3ms/step - loss: 1.0204 - accuracy: 0.5684 - val_loss: 0.8257 - val_accuracy: 0.7420\n",
      "Epoch 13/1000\n",
      " 1/30 [>.............................] - ETA: 0s - loss: 1.0812 - accuracy: 0.5859\n",
      "Epoch 13: saving model to model/keypoint_classifier\\keypoint_classifier.hdf5\n",
      "30/30 [==============================] - 0s 3ms/step - loss: 0.9896 - accuracy: 0.5841 - val_loss: 0.7841 - val_accuracy: 0.7683\n",
      "Epoch 14/1000\n",
      " 1/30 [>.............................] - ETA: 0s - loss: 0.8752 - accuracy: 0.6797\n",
      "Epoch 14: saving model to model/keypoint_classifier\\keypoint_classifier.hdf5\n",
      "30/30 [==============================] - 0s 4ms/step - loss: 0.9536 - accuracy: 0.6066 - val_loss: 0.7481 - val_accuracy: 0.7771\n",
      "Epoch 15/1000\n",
      " 1/30 [>.............................] - ETA: 0s - loss: 0.9735 - accuracy: 0.6250\n",
      "Epoch 15: saving model to model/keypoint_classifier\\keypoint_classifier.hdf5\n",
      "30/30 [==============================] - 0s 4ms/step - loss: 0.9323 - accuracy: 0.6223 - val_loss: 0.7135 - val_accuracy: 0.7811\n",
      "Epoch 16/1000\n",
      " 1/30 [>.............................] - ETA: 0s - loss: 0.9373 - accuracy: 0.5781\n",
      "Epoch 16: saving model to model/keypoint_classifier\\keypoint_classifier.hdf5\n",
      "30/30 [==============================] - 0s 3ms/step - loss: 0.9103 - accuracy: 0.6324 - val_loss: 0.6865 - val_accuracy: 0.8057\n",
      "Epoch 17/1000\n",
      " 1/30 [>.............................] - ETA: 0s - loss: 1.0025 - accuracy: 0.5703\n",
      "Epoch 17: saving model to model/keypoint_classifier\\keypoint_classifier.hdf5\n",
      "30/30 [==============================] - 0s 3ms/step - loss: 0.9121 - accuracy: 0.6244 - val_loss: 0.6551 - val_accuracy: 0.8145\n",
      "Epoch 18/1000\n",
      " 1/30 [>.............................] - ETA: 0s - loss: 0.8162 - accuracy: 0.6719\n",
      "Epoch 18: saving model to model/keypoint_classifier\\keypoint_classifier.hdf5\n",
      "30/30 [==============================] - 0s 3ms/step - loss: 0.8791 - accuracy: 0.6414 - val_loss: 0.6347 - val_accuracy: 0.8217\n",
      "Epoch 19/1000\n",
      " 1/30 [>.............................] - ETA: 0s - loss: 0.8900 - accuracy: 0.6328\n",
      "Epoch 19: saving model to model/keypoint_classifier\\keypoint_classifier.hdf5\n",
      "30/30 [==============================] - 0s 3ms/step - loss: 0.8625 - accuracy: 0.6529 - val_loss: 0.6137 - val_accuracy: 0.8304\n",
      "Epoch 20/1000\n",
      " 1/30 [>.............................] - ETA: 0s - loss: 0.8176 - accuracy: 0.6719\n",
      "Epoch 20: saving model to model/keypoint_classifier\\keypoint_classifier.hdf5\n",
      "30/30 [==============================] - 0s 3ms/step - loss: 0.8492 - accuracy: 0.6611 - val_loss: 0.5934 - val_accuracy: 0.8527\n",
      "Epoch 21/1000\n",
      " 1/30 [>.............................] - ETA: 0s - loss: 0.8127 - accuracy: 0.6875\n",
      "Epoch 21: saving model to model/keypoint_classifier\\keypoint_classifier.hdf5\n",
      "30/30 [==============================] - 0s 3ms/step - loss: 0.8166 - accuracy: 0.6765 - val_loss: 0.5746 - val_accuracy: 0.8519\n",
      "Epoch 22/1000\n",
      " 1/30 [>.............................] - ETA: 0s - loss: 0.8159 - accuracy: 0.6719\n",
      "Epoch 22: saving model to model/keypoint_classifier\\keypoint_classifier.hdf5\n",
      "30/30 [==============================] - 0s 4ms/step - loss: 0.8101 - accuracy: 0.6784 - val_loss: 0.5535 - val_accuracy: 0.8583\n",
      "Epoch 23/1000\n",
      "27/30 [==========================>...] - ETA: 0s - loss: 0.8124 - accuracy: 0.6759\n",
      "Epoch 23: saving model to model/keypoint_classifier\\keypoint_classifier.hdf5\n",
      "30/30 [==============================] - 0s 3ms/step - loss: 0.8129 - accuracy: 0.6770 - val_loss: 0.5436 - val_accuracy: 0.8686\n",
      "Epoch 24/1000\n",
      " 1/30 [>.............................] - ETA: 0s - loss: 0.7784 - accuracy: 0.7344\n",
      "Epoch 24: saving model to model/keypoint_classifier\\keypoint_classifier.hdf5\n",
      "30/30 [==============================] - 0s 3ms/step - loss: 0.7889 - accuracy: 0.6930 - val_loss: 0.5319 - val_accuracy: 0.8702\n",
      "Epoch 25/1000\n",
      " 1/30 [>.............................] - ETA: 0s - loss: 0.9422 - accuracy: 0.6250\n",
      "Epoch 25: saving model to model/keypoint_classifier\\keypoint_classifier.hdf5\n",
      "30/30 [==============================] - 0s 3ms/step - loss: 0.7990 - accuracy: 0.6882 - val_loss: 0.5161 - val_accuracy: 0.8718\n",
      "Epoch 26/1000\n",
      " 1/30 [>.............................] - ETA: 0s - loss: 0.8573 - accuracy: 0.7109\n",
      "Epoch 26: saving model to model/keypoint_classifier\\keypoint_classifier.hdf5\n",
      "30/30 [==============================] - 0s 3ms/step - loss: 0.7741 - accuracy: 0.7007 - val_loss: 0.5040 - val_accuracy: 0.8758\n",
      "Epoch 27/1000\n",
      " 1/30 [>.............................] - ETA: 0s - loss: 0.8046 - accuracy: 0.6797\n",
      "Epoch 27: saving model to model/keypoint_classifier\\keypoint_classifier.hdf5\n",
      "30/30 [==============================] - 0s 3ms/step - loss: 0.7534 - accuracy: 0.7023 - val_loss: 0.4847 - val_accuracy: 0.8822\n",
      "Epoch 28/1000\n",
      " 1/30 [>.............................] - ETA: 0s - loss: 0.8501 - accuracy: 0.6250\n",
      "Epoch 28: saving model to model/keypoint_classifier\\keypoint_classifier.hdf5\n",
      "30/30 [==============================] - 0s 4ms/step - loss: 0.7595 - accuracy: 0.6956 - val_loss: 0.4836 - val_accuracy: 0.8774\n",
      "Epoch 29/1000\n",
      " 1/30 [>.............................] - ETA: 0s - loss: 0.8159 - accuracy: 0.6641\n",
      "Epoch 29: saving model to model/keypoint_classifier\\keypoint_classifier.hdf5\n",
      "30/30 [==============================] - 0s 3ms/step - loss: 0.7343 - accuracy: 0.7142 - val_loss: 0.4709 - val_accuracy: 0.8822\n",
      "Epoch 30/1000\n",
      " 1/30 [>.............................] - ETA: 0s - loss: 0.7912 - accuracy: 0.6797\n",
      "Epoch 30: saving model to model/keypoint_classifier\\keypoint_classifier.hdf5\n",
      "30/30 [==============================] - 0s 3ms/step - loss: 0.7427 - accuracy: 0.7070 - val_loss: 0.4672 - val_accuracy: 0.8838\n",
      "Epoch 31/1000\n",
      " 1/30 [>.............................] - ETA: 0s - loss: 0.8438 - accuracy: 0.6797\n",
      "Epoch 31: saving model to model/keypoint_classifier\\keypoint_classifier.hdf5\n",
      "30/30 [==============================] - 0s 3ms/step - loss: 0.7521 - accuracy: 0.7044 - val_loss: 0.4633 - val_accuracy: 0.8814\n",
      "Epoch 32/1000\n",
      " 1/30 [>.............................] - ETA: 0s - loss: 0.7845 - accuracy: 0.7188\n",
      "Epoch 32: saving model to model/keypoint_classifier\\keypoint_classifier.hdf5\n",
      "30/30 [==============================] - 0s 3ms/step - loss: 0.7234 - accuracy: 0.7158 - val_loss: 0.4588 - val_accuracy: 0.8854\n",
      "Epoch 33/1000\n",
      " 1/30 [>.............................] - ETA: 0s - loss: 0.6976 - accuracy: 0.7188\n",
      "Epoch 33: saving model to model/keypoint_classifier\\keypoint_classifier.hdf5\n",
      "30/30 [==============================] - 0s 3ms/step - loss: 0.7168 - accuracy: 0.7243 - val_loss: 0.4459 - val_accuracy: 0.8806\n",
      "Epoch 34/1000\n",
      "29/30 [============================>.] - ETA: 0s - loss: 0.7087 - accuracy: 0.7244\n",
      "Epoch 34: saving model to model/keypoint_classifier\\keypoint_classifier.hdf5\n",
      "30/30 [==============================] - 0s 3ms/step - loss: 0.7083 - accuracy: 0.7246 - val_loss: 0.4402 - val_accuracy: 0.8814\n",
      "Epoch 35/1000\n",
      " 1/30 [>.............................] - ETA: 0s - loss: 0.5982 - accuracy: 0.7891\n",
      "Epoch 35: saving model to model/keypoint_classifier\\keypoint_classifier.hdf5\n",
      "30/30 [==============================] - 0s 3ms/step - loss: 0.7154 - accuracy: 0.7206 - val_loss: 0.4293 - val_accuracy: 0.8838\n",
      "Epoch 36/1000\n",
      " 1/30 [>.............................] - ETA: 0s - loss: 0.7061 - accuracy: 0.7734\n",
      "Epoch 36: saving model to model/keypoint_classifier\\keypoint_classifier.hdf5\n",
      "30/30 [==============================] - 0s 4ms/step - loss: 0.6899 - accuracy: 0.7347 - val_loss: 0.4276 - val_accuracy: 0.8846\n",
      "Epoch 37/1000\n",
      " 1/30 [>.............................] - ETA: 0s - loss: 0.6204 - accuracy: 0.8047\n",
      "Epoch 37: saving model to model/keypoint_classifier\\keypoint_classifier.hdf5\n",
      "30/30 [==============================] - 0s 3ms/step - loss: 0.7002 - accuracy: 0.7347 - val_loss: 0.4213 - val_accuracy: 0.8854\n",
      "Epoch 38/1000\n",
      " 1/30 [>.............................] - ETA: 0s - loss: 0.6776 - accuracy: 0.7578\n",
      "Epoch 38: saving model to model/keypoint_classifier\\keypoint_classifier.hdf5\n",
      "30/30 [==============================] - 0s 3ms/step - loss: 0.6995 - accuracy: 0.7224 - val_loss: 0.4186 - val_accuracy: 0.8846\n",
      "Epoch 39/1000\n",
      " 1/30 [>.............................] - ETA: 0s - loss: 0.6850 - accuracy: 0.7500\n",
      "Epoch 39: saving model to model/keypoint_classifier\\keypoint_classifier.hdf5\n",
      "30/30 [==============================] - 0s 3ms/step - loss: 0.6925 - accuracy: 0.7309 - val_loss: 0.4121 - val_accuracy: 0.8822\n",
      "Epoch 40/1000\n",
      " 1/30 [>.............................] - ETA: 0s - loss: 0.6567 - accuracy: 0.7500\n",
      "Epoch 40: saving model to model/keypoint_classifier\\keypoint_classifier.hdf5\n",
      "30/30 [==============================] - 0s 3ms/step - loss: 0.6795 - accuracy: 0.7384 - val_loss: 0.4152 - val_accuracy: 0.8814\n",
      "Epoch 41/1000\n",
      " 1/30 [>.............................] - ETA: 0s - loss: 0.5800 - accuracy: 0.7812\n",
      "Epoch 41: saving model to model/keypoint_classifier\\keypoint_classifier.hdf5\n",
      "30/30 [==============================] - 0s 3ms/step - loss: 0.6697 - accuracy: 0.7376 - val_loss: 0.4019 - val_accuracy: 0.8893\n",
      "Epoch 42/1000\n",
      " 1/30 [>.............................] - ETA: 0s - loss: 0.8322 - accuracy: 0.6719\n",
      "Epoch 42: saving model to model/keypoint_classifier\\keypoint_classifier.hdf5\n",
      "30/30 [==============================] - 0s 3ms/step - loss: 0.6760 - accuracy: 0.7402 - val_loss: 0.3952 - val_accuracy: 0.8877\n",
      "Epoch 43/1000\n",
      " 1/30 [>.............................] - ETA: 0s - loss: 0.6889 - accuracy: 0.7500\n",
      "Epoch 43: saving model to model/keypoint_classifier\\keypoint_classifier.hdf5\n",
      "30/30 [==============================] - 0s 3ms/step - loss: 0.6709 - accuracy: 0.7440 - val_loss: 0.3914 - val_accuracy: 0.8877\n",
      "Epoch 44/1000\n",
      " 1/30 [>.............................] - ETA: 0s - loss: 0.6488 - accuracy: 0.7266\n",
      "Epoch 44: saving model to model/keypoint_classifier\\keypoint_classifier.hdf5\n",
      "30/30 [==============================] - 0s 3ms/step - loss: 0.6625 - accuracy: 0.7533 - val_loss: 0.3851 - val_accuracy: 0.8869\n",
      "Epoch 45/1000\n",
      " 1/30 [>.............................] - ETA: 0s - loss: 0.5960 - accuracy: 0.7812\n",
      "Epoch 45: saving model to model/keypoint_classifier\\keypoint_classifier.hdf5\n",
      "30/30 [==============================] - 0s 3ms/step - loss: 0.6563 - accuracy: 0.7453 - val_loss: 0.3850 - val_accuracy: 0.8877\n",
      "Epoch 46/1000\n",
      " 1/30 [>.............................] - ETA: 0s - loss: 0.7977 - accuracy: 0.6406\n",
      "Epoch 46: saving model to model/keypoint_classifier\\keypoint_classifier.hdf5\n",
      "30/30 [==============================] - 0s 3ms/step - loss: 0.6592 - accuracy: 0.7392 - val_loss: 0.3790 - val_accuracy: 0.8925\n",
      "Epoch 47/1000\n",
      " 1/30 [>.............................] - ETA: 0s - loss: 0.6681 - accuracy: 0.7109\n",
      "Epoch 47: saving model to model/keypoint_classifier\\keypoint_classifier.hdf5\n",
      "30/30 [==============================] - 0s 3ms/step - loss: 0.6477 - accuracy: 0.7469 - val_loss: 0.3766 - val_accuracy: 0.8965\n",
      "Epoch 48/1000\n",
      " 1/30 [>.............................] - ETA: 0s - loss: 0.6609 - accuracy: 0.7500\n",
      "Epoch 48: saving model to model/keypoint_classifier\\keypoint_classifier.hdf5\n",
      "30/30 [==============================] - 0s 3ms/step - loss: 0.6542 - accuracy: 0.7511 - val_loss: 0.3735 - val_accuracy: 0.8957\n",
      "Epoch 49/1000\n",
      " 1/30 [>.............................] - ETA: 0s - loss: 0.5893 - accuracy: 0.7500\n",
      "Epoch 49: saving model to model/keypoint_classifier\\keypoint_classifier.hdf5\n",
      "30/30 [==============================] - 0s 3ms/step - loss: 0.6445 - accuracy: 0.7580 - val_loss: 0.3660 - val_accuracy: 0.9037\n",
      "Epoch 50/1000\n",
      " 1/30 [>.............................] - ETA: 0s - loss: 0.6751 - accuracy: 0.7578\n",
      "Epoch 50: saving model to model/keypoint_classifier\\keypoint_classifier.hdf5\n",
      "30/30 [==============================] - 0s 4ms/step - loss: 0.6599 - accuracy: 0.7522 - val_loss: 0.3744 - val_accuracy: 0.9021\n",
      "Epoch 51/1000\n",
      " 1/30 [>.............................] - ETA: 0s - loss: 0.5916 - accuracy: 0.7891\n",
      "Epoch 51: saving model to model/keypoint_classifier\\keypoint_classifier.hdf5\n",
      "30/30 [==============================] - 0s 3ms/step - loss: 0.6463 - accuracy: 0.7527 - val_loss: 0.3664 - val_accuracy: 0.9037\n",
      "Epoch 52/1000\n",
      " 1/30 [>.............................] - ETA: 0s - loss: 0.5722 - accuracy: 0.7656\n",
      "Epoch 52: saving model to model/keypoint_classifier\\keypoint_classifier.hdf5\n",
      "30/30 [==============================] - 0s 3ms/step - loss: 0.6455 - accuracy: 0.7509 - val_loss: 0.3598 - val_accuracy: 0.9116\n",
      "Epoch 53/1000\n",
      " 1/30 [>.............................] - ETA: 0s - loss: 0.6020 - accuracy: 0.7734\n",
      "Epoch 53: saving model to model/keypoint_classifier\\keypoint_classifier.hdf5\n",
      "30/30 [==============================] - 0s 3ms/step - loss: 0.6303 - accuracy: 0.7684 - val_loss: 0.3641 - val_accuracy: 0.9148\n",
      "Epoch 54/1000\n",
      " 1/30 [>.............................] - ETA: 0s - loss: 0.5928 - accuracy: 0.7969\n",
      "Epoch 54: saving model to model/keypoint_classifier\\keypoint_classifier.hdf5\n",
      "30/30 [==============================] - 0s 3ms/step - loss: 0.6299 - accuracy: 0.7564 - val_loss: 0.3557 - val_accuracy: 0.9076\n",
      "Epoch 55/1000\n",
      "27/30 [==========================>...] - ETA: 0s - loss: 0.6299 - accuracy: 0.7604\n",
      "Epoch 55: saving model to model/keypoint_classifier\\keypoint_classifier.hdf5\n",
      "30/30 [==============================] - 0s 3ms/step - loss: 0.6299 - accuracy: 0.7596 - val_loss: 0.3467 - val_accuracy: 0.9188\n",
      "Epoch 56/1000\n",
      " 1/30 [>.............................] - ETA: 0s - loss: 0.5107 - accuracy: 0.8047\n",
      "Epoch 56: saving model to model/keypoint_classifier\\keypoint_classifier.hdf5\n",
      "30/30 [==============================] - 0s 4ms/step - loss: 0.6333 - accuracy: 0.7546 - val_loss: 0.3510 - val_accuracy: 0.9260\n",
      "Epoch 57/1000\n",
      " 1/30 [>.............................] - ETA: 0s - loss: 0.5235 - accuracy: 0.8125\n",
      "Epoch 57: saving model to model/keypoint_classifier\\keypoint_classifier.hdf5\n",
      "30/30 [==============================] - 0s 3ms/step - loss: 0.6352 - accuracy: 0.7610 - val_loss: 0.3458 - val_accuracy: 0.9204\n",
      "Epoch 58/1000\n",
      " 1/30 [>.............................] - ETA: 0s - loss: 0.7231 - accuracy: 0.7500\n",
      "Epoch 58: saving model to model/keypoint_classifier\\keypoint_classifier.hdf5\n",
      "30/30 [==============================] - 0s 3ms/step - loss: 0.6354 - accuracy: 0.7599 - val_loss: 0.3492 - val_accuracy: 0.9220\n",
      "Epoch 59/1000\n",
      " 1/30 [>.............................] - ETA: 0s - loss: 0.5139 - accuracy: 0.7891\n",
      "Epoch 59: saving model to model/keypoint_classifier\\keypoint_classifier.hdf5\n",
      "30/30 [==============================] - 0s 4ms/step - loss: 0.6308 - accuracy: 0.7631 - val_loss: 0.3473 - val_accuracy: 0.9156\n",
      "Epoch 60/1000\n",
      " 1/30 [>.............................] - ETA: 0s - loss: 0.7153 - accuracy: 0.7266\n",
      "Epoch 60: saving model to model/keypoint_classifier\\keypoint_classifier.hdf5\n",
      "30/30 [==============================] - 0s 3ms/step - loss: 0.6291 - accuracy: 0.7660 - val_loss: 0.3407 - val_accuracy: 0.9347\n",
      "Epoch 61/1000\n",
      " 1/30 [>.............................] - ETA: 0s - loss: 0.5015 - accuracy: 0.8516\n",
      "Epoch 61: saving model to model/keypoint_classifier\\keypoint_classifier.hdf5\n",
      "30/30 [==============================] - 0s 3ms/step - loss: 0.6301 - accuracy: 0.7676 - val_loss: 0.3456 - val_accuracy: 0.9268\n",
      "Epoch 62/1000\n",
      " 1/30 [>.............................] - ETA: 0s - loss: 0.7003 - accuracy: 0.7266\n",
      "Epoch 62: saving model to model/keypoint_classifier\\keypoint_classifier.hdf5\n",
      "30/30 [==============================] - 0s 3ms/step - loss: 0.6185 - accuracy: 0.7740 - val_loss: 0.3307 - val_accuracy: 0.9363\n",
      "Epoch 63/1000\n",
      " 1/30 [>.............................] - ETA: 0s - loss: 0.5542 - accuracy: 0.8203\n",
      "Epoch 63: saving model to model/keypoint_classifier\\keypoint_classifier.hdf5\n",
      "30/30 [==============================] - 0s 4ms/step - loss: 0.6054 - accuracy: 0.7761 - val_loss: 0.3334 - val_accuracy: 0.9339\n",
      "Epoch 64/1000\n",
      " 1/30 [>.............................] - ETA: 0s - loss: 0.5082 - accuracy: 0.8125\n",
      "Epoch 64: saving model to model/keypoint_classifier\\keypoint_classifier.hdf5\n",
      "30/30 [==============================] - 0s 3ms/step - loss: 0.6128 - accuracy: 0.7689 - val_loss: 0.3319 - val_accuracy: 0.9339\n",
      "Epoch 65/1000\n",
      " 1/30 [>.............................] - ETA: 0s - loss: 0.6813 - accuracy: 0.7734\n",
      "Epoch 65: saving model to model/keypoint_classifier\\keypoint_classifier.hdf5\n",
      "30/30 [==============================] - 0s 4ms/step - loss: 0.6160 - accuracy: 0.7729 - val_loss: 0.3242 - val_accuracy: 0.9363\n",
      "Epoch 66/1000\n",
      " 1/30 [>.............................] - ETA: 0s - loss: 0.6724 - accuracy: 0.7188\n",
      "Epoch 66: saving model to model/keypoint_classifier\\keypoint_classifier.hdf5\n",
      "30/30 [==============================] - 0s 3ms/step - loss: 0.6241 - accuracy: 0.7716 - val_loss: 0.3345 - val_accuracy: 0.9323\n",
      "Epoch 67/1000\n",
      " 1/30 [>.............................] - ETA: 0s - loss: 0.6130 - accuracy: 0.7891\n",
      "Epoch 67: saving model to model/keypoint_classifier\\keypoint_classifier.hdf5\n",
      "30/30 [==============================] - 0s 3ms/step - loss: 0.6004 - accuracy: 0.7780 - val_loss: 0.3321 - val_accuracy: 0.9331\n",
      "Epoch 68/1000\n",
      " 1/30 [>.............................] - ETA: 0s - loss: 0.5226 - accuracy: 0.8203\n",
      "Epoch 68: saving model to model/keypoint_classifier\\keypoint_classifier.hdf5\n",
      "30/30 [==============================] - 0s 4ms/step - loss: 0.6224 - accuracy: 0.7628 - val_loss: 0.3288 - val_accuracy: 0.9315\n",
      "Epoch 69/1000\n",
      "25/30 [========================>.....] - ETA: 0s - loss: 0.6060 - accuracy: 0.7663\n",
      "Epoch 69: saving model to model/keypoint_classifier\\keypoint_classifier.hdf5\n",
      "30/30 [==============================] - 0s 4ms/step - loss: 0.6098 - accuracy: 0.7641 - val_loss: 0.3239 - val_accuracy: 0.9331\n",
      "Epoch 70/1000\n",
      " 1/30 [>.............................] - ETA: 0s - loss: 0.5870 - accuracy: 0.7500\n",
      "Epoch 70: saving model to model/keypoint_classifier\\keypoint_classifier.hdf5\n",
      "30/30 [==============================] - 0s 4ms/step - loss: 0.6238 - accuracy: 0.7633 - val_loss: 0.3304 - val_accuracy: 0.9291\n",
      "Epoch 71/1000\n",
      " 1/30 [>.............................] - ETA: 0s - loss: 0.6190 - accuracy: 0.7188\n",
      "Epoch 71: saving model to model/keypoint_classifier\\keypoint_classifier.hdf5\n",
      "30/30 [==============================] - 0s 4ms/step - loss: 0.5931 - accuracy: 0.7811 - val_loss: 0.3190 - val_accuracy: 0.9371\n",
      "Epoch 72/1000\n",
      "28/30 [===========================>..] - ETA: 0s - loss: 0.5980 - accuracy: 0.7743\n",
      "Epoch 72: saving model to model/keypoint_classifier\\keypoint_classifier.hdf5\n",
      "30/30 [==============================] - 0s 4ms/step - loss: 0.5917 - accuracy: 0.7758 - val_loss: 0.3154 - val_accuracy: 0.9347\n",
      "Epoch 73/1000\n",
      " 1/30 [>.............................] - ETA: 0s - loss: 0.6154 - accuracy: 0.7500\n",
      "Epoch 73: saving model to model/keypoint_classifier\\keypoint_classifier.hdf5\n",
      "30/30 [==============================] - 0s 3ms/step - loss: 0.6143 - accuracy: 0.7703 - val_loss: 0.3182 - val_accuracy: 0.9379\n",
      "Epoch 74/1000\n",
      " 1/30 [>.............................] - ETA: 0s - loss: 0.7114 - accuracy: 0.7031\n",
      "Epoch 74: saving model to model/keypoint_classifier\\keypoint_classifier.hdf5\n",
      "30/30 [==============================] - 0s 3ms/step - loss: 0.6185 - accuracy: 0.7756 - val_loss: 0.3174 - val_accuracy: 0.9363\n",
      "Epoch 75/1000\n",
      "29/30 [============================>.] - ETA: 0s - loss: 0.5937 - accuracy: 0.7829\n",
      "Epoch 75: saving model to model/keypoint_classifier\\keypoint_classifier.hdf5\n",
      "30/30 [==============================] - 0s 4ms/step - loss: 0.5921 - accuracy: 0.7841 - val_loss: 0.3149 - val_accuracy: 0.9395\n",
      "Epoch 76/1000\n",
      " 1/30 [>.............................] - ETA: 0s - loss: 0.5951 - accuracy: 0.7969\n",
      "Epoch 76: saving model to model/keypoint_classifier\\keypoint_classifier.hdf5\n",
      "30/30 [==============================] - 0s 4ms/step - loss: 0.6077 - accuracy: 0.7750 - val_loss: 0.3080 - val_accuracy: 0.9451\n",
      "Epoch 77/1000\n",
      " 1/30 [>.............................] - ETA: 0s - loss: 0.6569 - accuracy: 0.7812\n",
      "Epoch 77: saving model to model/keypoint_classifier\\keypoint_classifier.hdf5\n",
      "30/30 [==============================] - 0s 4ms/step - loss: 0.5979 - accuracy: 0.7859 - val_loss: 0.3133 - val_accuracy: 0.9363\n",
      "Epoch 78/1000\n",
      " 1/30 [>.............................] - ETA: 0s - loss: 0.6108 - accuracy: 0.7891\n",
      "Epoch 78: saving model to model/keypoint_classifier\\keypoint_classifier.hdf5\n",
      "30/30 [==============================] - 0s 3ms/step - loss: 0.5975 - accuracy: 0.7857 - val_loss: 0.3150 - val_accuracy: 0.9307\n",
      "Epoch 79/1000\n",
      " 1/30 [>.............................] - ETA: 0s - loss: 0.6489 - accuracy: 0.7578\n",
      "Epoch 79: saving model to model/keypoint_classifier\\keypoint_classifier.hdf5\n",
      "30/30 [==============================] - 0s 3ms/step - loss: 0.6164 - accuracy: 0.7806 - val_loss: 0.3072 - val_accuracy: 0.9419\n",
      "Epoch 80/1000\n",
      " 1/30 [>.............................] - ETA: 0s - loss: 0.6052 - accuracy: 0.7656\n",
      "Epoch 80: saving model to model/keypoint_classifier\\keypoint_classifier.hdf5\n",
      "30/30 [==============================] - 0s 4ms/step - loss: 0.5837 - accuracy: 0.7846 - val_loss: 0.2975 - val_accuracy: 0.9451\n",
      "Epoch 81/1000\n",
      " 1/30 [>.............................] - ETA: 0s - loss: 0.5834 - accuracy: 0.8125\n",
      "Epoch 81: saving model to model/keypoint_classifier\\keypoint_classifier.hdf5\n",
      "30/30 [==============================] - 0s 3ms/step - loss: 0.6198 - accuracy: 0.7764 - val_loss: 0.3170 - val_accuracy: 0.9427\n",
      "Epoch 82/1000\n",
      " 1/30 [>.............................] - ETA: 0s - loss: 0.6432 - accuracy: 0.7344\n",
      "Epoch 82: saving model to model/keypoint_classifier\\keypoint_classifier.hdf5\n",
      "30/30 [==============================] - 0s 3ms/step - loss: 0.5880 - accuracy: 0.7894 - val_loss: 0.3023 - val_accuracy: 0.9427\n",
      "Epoch 83/1000\n",
      " 1/30 [>.............................] - ETA: 0s - loss: 0.6004 - accuracy: 0.7656\n",
      "Epoch 83: saving model to model/keypoint_classifier\\keypoint_classifier.hdf5\n",
      "30/30 [==============================] - 0s 3ms/step - loss: 0.6269 - accuracy: 0.7623 - val_loss: 0.3100 - val_accuracy: 0.9315\n",
      "Epoch 84/1000\n",
      " 1/30 [>.............................] - ETA: 0s - loss: 0.5187 - accuracy: 0.8125\n",
      "Epoch 84: saving model to model/keypoint_classifier\\keypoint_classifier.hdf5\n",
      "30/30 [==============================] - 0s 4ms/step - loss: 0.5947 - accuracy: 0.7801 - val_loss: 0.3083 - val_accuracy: 0.9379\n",
      "Epoch 85/1000\n",
      " 1/30 [>.............................] - ETA: 0s - loss: 0.5662 - accuracy: 0.7812\n",
      "Epoch 85: saving model to model/keypoint_classifier\\keypoint_classifier.hdf5\n",
      "30/30 [==============================] - 0s 3ms/step - loss: 0.5715 - accuracy: 0.7926 - val_loss: 0.2974 - val_accuracy: 0.9363\n",
      "Epoch 86/1000\n",
      " 1/30 [>.............................] - ETA: 0s - loss: 0.6930 - accuracy: 0.7578\n",
      "Epoch 86: saving model to model/keypoint_classifier\\keypoint_classifier.hdf5\n",
      "30/30 [==============================] - 0s 4ms/step - loss: 0.5881 - accuracy: 0.7918 - val_loss: 0.3009 - val_accuracy: 0.9435\n",
      "Epoch 87/1000\n",
      "29/30 [============================>.] - ETA: 0s - loss: 0.5903 - accuracy: 0.7794\n",
      "Epoch 87: saving model to model/keypoint_classifier\\keypoint_classifier.hdf5\n",
      "30/30 [==============================] - 0s 4ms/step - loss: 0.5910 - accuracy: 0.7795 - val_loss: 0.3000 - val_accuracy: 0.9403\n",
      "Epoch 88/1000\n",
      " 1/30 [>.............................] - ETA: 0s - loss: 0.5377 - accuracy: 0.8203\n",
      "Epoch 88: saving model to model/keypoint_classifier\\keypoint_classifier.hdf5\n",
      "30/30 [==============================] - 0s 3ms/step - loss: 0.5809 - accuracy: 0.7865 - val_loss: 0.2905 - val_accuracy: 0.9427\n",
      "Epoch 89/1000\n",
      " 1/30 [>.............................] - ETA: 0s - loss: 0.5791 - accuracy: 0.7578\n",
      "Epoch 89: saving model to model/keypoint_classifier\\keypoint_classifier.hdf5\n",
      "30/30 [==============================] - 0s 4ms/step - loss: 0.5667 - accuracy: 0.7910 - val_loss: 0.2909 - val_accuracy: 0.9411\n",
      "Epoch 90/1000\n",
      " 1/30 [>.............................] - ETA: 0s - loss: 0.6296 - accuracy: 0.7656\n",
      "Epoch 90: saving model to model/keypoint_classifier\\keypoint_classifier.hdf5\n",
      "30/30 [==============================] - 0s 4ms/step - loss: 0.5646 - accuracy: 0.7947 - val_loss: 0.2850 - val_accuracy: 0.9467\n",
      "Epoch 91/1000\n",
      " 1/30 [>.............................] - ETA: 0s - loss: 0.6743 - accuracy: 0.6875\n",
      "Epoch 91: saving model to model/keypoint_classifier\\keypoint_classifier.hdf5\n",
      "30/30 [==============================] - 0s 3ms/step - loss: 0.5848 - accuracy: 0.7880 - val_loss: 0.2969 - val_accuracy: 0.9427\n",
      "Epoch 92/1000\n",
      " 1/30 [>.............................] - ETA: 0s - loss: 0.6277 - accuracy: 0.7266\n",
      "Epoch 92: saving model to model/keypoint_classifier\\keypoint_classifier.hdf5\n",
      "30/30 [==============================] - 0s 4ms/step - loss: 0.5808 - accuracy: 0.7939 - val_loss: 0.2924 - val_accuracy: 0.9451\n",
      "Epoch 93/1000\n",
      " 1/30 [>.............................] - ETA: 0s - loss: 0.4835 - accuracy: 0.8516\n",
      "Epoch 93: saving model to model/keypoint_classifier\\keypoint_classifier.hdf5\n",
      "30/30 [==============================] - 0s 4ms/step - loss: 0.5653 - accuracy: 0.7942 - val_loss: 0.2804 - val_accuracy: 0.9427\n",
      "Epoch 94/1000\n",
      " 1/30 [>.............................] - ETA: 0s - loss: 0.5326 - accuracy: 0.8047\n",
      "Epoch 94: saving model to model/keypoint_classifier\\keypoint_classifier.hdf5\n",
      "30/30 [==============================] - 0s 4ms/step - loss: 0.6011 - accuracy: 0.7766 - val_loss: 0.2851 - val_accuracy: 0.9467\n",
      "Epoch 95/1000\n",
      "30/30 [==============================] - ETA: 0s - loss: 0.5742 - accuracy: 0.7886\n",
      "Epoch 95: saving model to model/keypoint_classifier\\keypoint_classifier.hdf5\n",
      "30/30 [==============================] - 0s 4ms/step - loss: 0.5742 - accuracy: 0.7886 - val_loss: 0.2974 - val_accuracy: 0.9395\n",
      "Epoch 96/1000\n",
      "30/30 [==============================] - ETA: 0s - loss: 0.5886 - accuracy: 0.7878\n",
      "Epoch 96: saving model to model/keypoint_classifier\\keypoint_classifier.hdf5\n",
      "30/30 [==============================] - 0s 4ms/step - loss: 0.5886 - accuracy: 0.7878 - val_loss: 0.2918 - val_accuracy: 0.9482\n",
      "Epoch 97/1000\n",
      "30/30 [==============================] - ETA: 0s - loss: 0.5865 - accuracy: 0.7803\n",
      "Epoch 97: saving model to model/keypoint_classifier\\keypoint_classifier.hdf5\n",
      "30/30 [==============================] - 0s 4ms/step - loss: 0.5865 - accuracy: 0.7803 - val_loss: 0.2913 - val_accuracy: 0.9443\n",
      "Epoch 98/1000\n",
      " 1/30 [>.............................] - ETA: 0s - loss: 0.5481 - accuracy: 0.8047\n",
      "Epoch 98: saving model to model/keypoint_classifier\\keypoint_classifier.hdf5\n",
      "30/30 [==============================] - 0s 3ms/step - loss: 0.5777 - accuracy: 0.7865 - val_loss: 0.2893 - val_accuracy: 0.9467\n",
      "Epoch 99/1000\n",
      " 1/30 [>.............................] - ETA: 0s - loss: 0.4991 - accuracy: 0.8281\n",
      "Epoch 99: saving model to model/keypoint_classifier\\keypoint_classifier.hdf5\n",
      "30/30 [==============================] - 0s 3ms/step - loss: 0.5660 - accuracy: 0.7981 - val_loss: 0.2853 - val_accuracy: 0.9522\n",
      "Epoch 100/1000\n",
      "18/30 [=================>............] - ETA: 0s - loss: 0.5915 - accuracy: 0.7786\n",
      "Epoch 100: saving model to model/keypoint_classifier\\keypoint_classifier.hdf5\n",
      "30/30 [==============================] - 0s 4ms/step - loss: 0.5831 - accuracy: 0.7859 - val_loss: 0.2866 - val_accuracy: 0.9451\n",
      "Epoch 101/1000\n",
      " 1/30 [>.............................] - ETA: 0s - loss: 0.5344 - accuracy: 0.8281\n",
      "Epoch 101: saving model to model/keypoint_classifier\\keypoint_classifier.hdf5\n",
      "30/30 [==============================] - 0s 3ms/step - loss: 0.5700 - accuracy: 0.7936 - val_loss: 0.2826 - val_accuracy: 0.9490\n",
      "Epoch 102/1000\n",
      " 1/30 [>.............................] - ETA: 0s - loss: 0.5432 - accuracy: 0.8281\n",
      "Epoch 102: saving model to model/keypoint_classifier\\keypoint_classifier.hdf5\n",
      "30/30 [==============================] - 0s 3ms/step - loss: 0.5637 - accuracy: 0.7947 - val_loss: 0.2856 - val_accuracy: 0.9435\n",
      "Epoch 103/1000\n",
      " 1/30 [>.............................] - ETA: 0s - loss: 0.5448 - accuracy: 0.7812\n",
      "Epoch 103: saving model to model/keypoint_classifier\\keypoint_classifier.hdf5\n",
      "30/30 [==============================] - 0s 3ms/step - loss: 0.5754 - accuracy: 0.7920 - val_loss: 0.2864 - val_accuracy: 0.9419\n",
      "Epoch 104/1000\n",
      "30/30 [==============================] - ETA: 0s - loss: 0.5868 - accuracy: 0.7920\n",
      "Epoch 104: saving model to model/keypoint_classifier\\keypoint_classifier.hdf5\n",
      "30/30 [==============================] - 0s 4ms/step - loss: 0.5868 - accuracy: 0.7920 - val_loss: 0.2858 - val_accuracy: 0.9443\n",
      "Epoch 105/1000\n",
      " 1/30 [>.............................] - ETA: 0s - loss: 0.6671 - accuracy: 0.7812\n",
      "Epoch 105: saving model to model/keypoint_classifier\\keypoint_classifier.hdf5\n",
      "30/30 [==============================] - 0s 4ms/step - loss: 0.5899 - accuracy: 0.7894 - val_loss: 0.2857 - val_accuracy: 0.9482\n",
      "Epoch 106/1000\n",
      " 1/30 [>.............................] - ETA: 0s - loss: 0.5459 - accuracy: 0.7812\n",
      "Epoch 106: saving model to model/keypoint_classifier\\keypoint_classifier.hdf5\n",
      "30/30 [==============================] - 0s 4ms/step - loss: 0.5764 - accuracy: 0.7830 - val_loss: 0.2902 - val_accuracy: 0.9451\n",
      "Epoch 107/1000\n",
      " 1/30 [>.............................] - ETA: 0s - loss: 0.5310 - accuracy: 0.7891\n",
      "Epoch 107: saving model to model/keypoint_classifier\\keypoint_classifier.hdf5\n",
      "30/30 [==============================] - 0s 4ms/step - loss: 0.5663 - accuracy: 0.7944 - val_loss: 0.2823 - val_accuracy: 0.9451\n",
      "Epoch 108/1000\n",
      " 1/30 [>.............................] - ETA: 0s - loss: 0.5332 - accuracy: 0.8125\n",
      "Epoch 108: saving model to model/keypoint_classifier\\keypoint_classifier.hdf5\n",
      "30/30 [==============================] - 0s 3ms/step - loss: 0.5666 - accuracy: 0.7955 - val_loss: 0.2736 - val_accuracy: 0.9490\n",
      "Epoch 109/1000\n",
      " 1/30 [>.............................] - ETA: 0s - loss: 0.6008 - accuracy: 0.7812\n",
      "Epoch 109: saving model to model/keypoint_classifier\\keypoint_classifier.hdf5\n",
      "30/30 [==============================] - 0s 3ms/step - loss: 0.5481 - accuracy: 0.7971 - val_loss: 0.2739 - val_accuracy: 0.9451\n",
      "Epoch 110/1000\n",
      "24/30 [=======================>......] - ETA: 0s - loss: 0.5828 - accuracy: 0.7907\n",
      "Epoch 110: saving model to model/keypoint_classifier\\keypoint_classifier.hdf5\n",
      "30/30 [==============================] - 0s 4ms/step - loss: 0.5728 - accuracy: 0.7950 - val_loss: 0.2769 - val_accuracy: 0.9506\n",
      "Epoch 111/1000\n",
      "28/30 [===========================>..] - ETA: 0s - loss: 0.5661 - accuracy: 0.7935\n",
      "Epoch 111: saving model to model/keypoint_classifier\\keypoint_classifier.hdf5\n",
      "30/30 [==============================] - 0s 4ms/step - loss: 0.5685 - accuracy: 0.7934 - val_loss: 0.2711 - val_accuracy: 0.9514\n",
      "Epoch 112/1000\n",
      " 1/30 [>.............................] - ETA: 0s - loss: 0.5728 - accuracy: 0.7656\n",
      "Epoch 112: saving model to model/keypoint_classifier\\keypoint_classifier.hdf5\n",
      "30/30 [==============================] - 0s 4ms/step - loss: 0.5606 - accuracy: 0.8003 - val_loss: 0.2698 - val_accuracy: 0.9506\n",
      "Epoch 113/1000\n",
      " 1/30 [>.............................] - ETA: 0s - loss: 0.5605 - accuracy: 0.7734\n",
      "Epoch 113: saving model to model/keypoint_classifier\\keypoint_classifier.hdf5\n",
      "30/30 [==============================] - 0s 3ms/step - loss: 0.5684 - accuracy: 0.7944 - val_loss: 0.2738 - val_accuracy: 0.9514\n",
      "Epoch 114/1000\n",
      "24/30 [=======================>......] - ETA: 0s - loss: 0.5343 - accuracy: 0.8076\n",
      "Epoch 114: saving model to model/keypoint_classifier\\keypoint_classifier.hdf5\n",
      "30/30 [==============================] - 0s 4ms/step - loss: 0.5461 - accuracy: 0.8003 - val_loss: 0.2652 - val_accuracy: 0.9522\n",
      "Epoch 115/1000\n",
      " 1/30 [>.............................] - ETA: 0s - loss: 0.7299 - accuracy: 0.7266\n",
      "Epoch 115: saving model to model/keypoint_classifier\\keypoint_classifier.hdf5\n",
      "30/30 [==============================] - 0s 3ms/step - loss: 0.5526 - accuracy: 0.8008 - val_loss: 0.2613 - val_accuracy: 0.9578\n",
      "Epoch 116/1000\n",
      "23/30 [======================>.......] - ETA: 0s - loss: 0.5742 - accuracy: 0.7945\n",
      "Epoch 116: saving model to model/keypoint_classifier\\keypoint_classifier.hdf5\n",
      "30/30 [==============================] - 0s 4ms/step - loss: 0.5759 - accuracy: 0.7931 - val_loss: 0.2612 - val_accuracy: 0.9514\n",
      "Epoch 117/1000\n",
      " 1/30 [>.............................] - ETA: 0s - loss: 0.6155 - accuracy: 0.7969\n",
      "Epoch 117: saving model to model/keypoint_classifier\\keypoint_classifier.hdf5\n",
      "30/30 [==============================] - 0s 3ms/step - loss: 0.5720 - accuracy: 0.7963 - val_loss: 0.2701 - val_accuracy: 0.9514\n",
      "Epoch 118/1000\n",
      "28/30 [===========================>..] - ETA: 0s - loss: 0.5751 - accuracy: 0.7863\n",
      "Epoch 118: saving model to model/keypoint_classifier\\keypoint_classifier.hdf5\n",
      "30/30 [==============================] - 0s 4ms/step - loss: 0.5757 - accuracy: 0.7867 - val_loss: 0.2742 - val_accuracy: 0.9475\n",
      "Epoch 119/1000\n",
      " 1/30 [>.............................] - ETA: 0s - loss: 0.5441 - accuracy: 0.8047\n",
      "Epoch 119: saving model to model/keypoint_classifier\\keypoint_classifier.hdf5\n",
      "30/30 [==============================] - 0s 4ms/step - loss: 0.5608 - accuracy: 0.7973 - val_loss: 0.2699 - val_accuracy: 0.9498\n",
      "Epoch 120/1000\n",
      " 1/30 [>.............................] - ETA: 0s - loss: 0.6120 - accuracy: 0.8125\n",
      "Epoch 120: saving model to model/keypoint_classifier\\keypoint_classifier.hdf5\n",
      "30/30 [==============================] - 0s 3ms/step - loss: 0.5533 - accuracy: 0.8019 - val_loss: 0.2702 - val_accuracy: 0.9482\n",
      "Epoch 121/1000\n",
      "26/30 [=========================>....] - ETA: 0s - loss: 0.5704 - accuracy: 0.7921\n",
      "Epoch 121: saving model to model/keypoint_classifier\\keypoint_classifier.hdf5\n",
      "30/30 [==============================] - 0s 4ms/step - loss: 0.5658 - accuracy: 0.7942 - val_loss: 0.2712 - val_accuracy: 0.9498\n",
      "Epoch 122/1000\n",
      " 1/30 [>.............................] - ETA: 0s - loss: 0.5326 - accuracy: 0.8281\n",
      "Epoch 122: saving model to model/keypoint_classifier\\keypoint_classifier.hdf5\n",
      "30/30 [==============================] - 0s 3ms/step - loss: 0.5595 - accuracy: 0.7979 - val_loss: 0.2608 - val_accuracy: 0.9530\n",
      "Epoch 123/1000\n",
      "23/30 [======================>.......] - ETA: 0s - loss: 0.5797 - accuracy: 0.7928\n",
      "Epoch 123: saving model to model/keypoint_classifier\\keypoint_classifier.hdf5\n",
      "30/30 [==============================] - 0s 4ms/step - loss: 0.5687 - accuracy: 0.7950 - val_loss: 0.2675 - val_accuracy: 0.9506\n",
      "Epoch 124/1000\n",
      "26/30 [=========================>....] - ETA: 0s - loss: 0.5623 - accuracy: 0.7957\n",
      "Epoch 124: saving model to model/keypoint_classifier\\keypoint_classifier.hdf5\n",
      "30/30 [==============================] - 0s 4ms/step - loss: 0.5592 - accuracy: 0.7963 - val_loss: 0.2673 - val_accuracy: 0.9490\n",
      "Epoch 125/1000\n",
      " 1/30 [>.............................] - ETA: 0s - loss: 0.4380 - accuracy: 0.8672\n",
      "Epoch 125: saving model to model/keypoint_classifier\\keypoint_classifier.hdf5\n",
      "30/30 [==============================] - 0s 3ms/step - loss: 0.5362 - accuracy: 0.8082 - val_loss: 0.2621 - val_accuracy: 0.9538\n",
      "Epoch 126/1000\n",
      "27/30 [==========================>...] - ETA: 0s - loss: 0.5433 - accuracy: 0.8047\n",
      "Epoch 126: saving model to model/keypoint_classifier\\keypoint_classifier.hdf5\n",
      "30/30 [==============================] - 0s 4ms/step - loss: 0.5435 - accuracy: 0.8045 - val_loss: 0.2667 - val_accuracy: 0.9538\n",
      "Epoch 127/1000\n",
      " 1/30 [>.............................] - ETA: 0s - loss: 0.6251 - accuracy: 0.7734\n",
      "Epoch 127: saving model to model/keypoint_classifier\\keypoint_classifier.hdf5\n",
      "30/30 [==============================] - 0s 3ms/step - loss: 0.5737 - accuracy: 0.8013 - val_loss: 0.2659 - val_accuracy: 0.9467\n",
      "Epoch 128/1000\n",
      " 1/30 [>.............................] - ETA: 0s - loss: 0.5968 - accuracy: 0.7656\n",
      "Epoch 128: saving model to model/keypoint_classifier\\keypoint_classifier.hdf5\n",
      "30/30 [==============================] - 0s 4ms/step - loss: 0.5583 - accuracy: 0.7934 - val_loss: 0.2688 - val_accuracy: 0.9443\n",
      "Epoch 129/1000\n",
      " 1/30 [>.............................] - ETA: 0s - loss: 0.4869 - accuracy: 0.8594\n",
      "Epoch 129: saving model to model/keypoint_classifier\\keypoint_classifier.hdf5\n",
      "30/30 [==============================] - 0s 4ms/step - loss: 0.5464 - accuracy: 0.8058 - val_loss: 0.2703 - val_accuracy: 0.9482\n",
      "Epoch 130/1000\n",
      " 1/30 [>.............................] - ETA: 0s - loss: 0.4240 - accuracy: 0.8750\n",
      "Epoch 130: saving model to model/keypoint_classifier\\keypoint_classifier.hdf5\n",
      "30/30 [==============================] - 0s 3ms/step - loss: 0.5538 - accuracy: 0.7934 - val_loss: 0.2625 - val_accuracy: 0.9490\n",
      "Epoch 131/1000\n",
      " 1/30 [>.............................] - ETA: 0s - loss: 0.5070 - accuracy: 0.8281\n",
      "Epoch 131: saving model to model/keypoint_classifier\\keypoint_classifier.hdf5\n",
      "30/30 [==============================] - 0s 4ms/step - loss: 0.5583 - accuracy: 0.7955 - val_loss: 0.2699 - val_accuracy: 0.9459\n",
      "Epoch 132/1000\n",
      " 1/30 [>.............................] - ETA: 0s - loss: 0.4189 - accuracy: 0.8594\n",
      "Epoch 132: saving model to model/keypoint_classifier\\keypoint_classifier.hdf5\n",
      "30/30 [==============================] - 0s 3ms/step - loss: 0.5476 - accuracy: 0.8013 - val_loss: 0.2565 - val_accuracy: 0.9530\n",
      "Epoch 133/1000\n",
      "23/30 [======================>.......] - ETA: 0s - loss: 0.5252 - accuracy: 0.8111\n",
      "Epoch 133: saving model to model/keypoint_classifier\\keypoint_classifier.hdf5\n",
      "30/30 [==============================] - 0s 5ms/step - loss: 0.5560 - accuracy: 0.7995 - val_loss: 0.2630 - val_accuracy: 0.9522\n",
      "Epoch 134/1000\n",
      "19/30 [==================>...........] - ETA: 0s - loss: 0.5541 - accuracy: 0.8014\n",
      "Epoch 134: saving model to model/keypoint_classifier\\keypoint_classifier.hdf5\n",
      "30/30 [==============================] - 0s 4ms/step - loss: 0.5571 - accuracy: 0.7989 - val_loss: 0.2670 - val_accuracy: 0.9475\n",
      "Epoch 135/1000\n",
      "23/30 [======================>.......] - ETA: 0s - loss: 0.5456 - accuracy: 0.8091\n",
      "Epoch 135: saving model to model/keypoint_classifier\\keypoint_classifier.hdf5\n",
      "30/30 [==============================] - 0s 4ms/step - loss: 0.5590 - accuracy: 0.8013 - val_loss: 0.2676 - val_accuracy: 0.9435\n",
      "Epoch 136/1000\n",
      "27/30 [==========================>...] - ETA: 0s - loss: 0.5492 - accuracy: 0.8038\n",
      "Epoch 136: saving model to model/keypoint_classifier\\keypoint_classifier.hdf5\n",
      "30/30 [==============================] - 0s 4ms/step - loss: 0.5511 - accuracy: 0.8019 - val_loss: 0.2674 - val_accuracy: 0.9514\n",
      "Epoch 137/1000\n",
      " 1/30 [>.............................] - ETA: 0s - loss: 0.4686 - accuracy: 0.8125\n",
      "Epoch 137: saving model to model/keypoint_classifier\\keypoint_classifier.hdf5\n",
      "30/30 [==============================] - 0s 4ms/step - loss: 0.5515 - accuracy: 0.8035 - val_loss: 0.2552 - val_accuracy: 0.9570\n",
      "Epoch 138/1000\n",
      "29/30 [============================>.] - ETA: 0s - loss: 0.5352 - accuracy: 0.8039\n",
      "Epoch 138: saving model to model/keypoint_classifier\\keypoint_classifier.hdf5\n",
      "30/30 [==============================] - 0s 4ms/step - loss: 0.5361 - accuracy: 0.8035 - val_loss: 0.2662 - val_accuracy: 0.9475\n",
      "Epoch 139/1000\n",
      " 1/30 [>.............................] - ETA: 0s - loss: 0.6791 - accuracy: 0.7734\n",
      "Epoch 139: saving model to model/keypoint_classifier\\keypoint_classifier.hdf5\n",
      "30/30 [==============================] - 0s 3ms/step - loss: 0.5626 - accuracy: 0.7923 - val_loss: 0.2632 - val_accuracy: 0.9498\n",
      "Epoch 140/1000\n",
      " 1/30 [>.............................] - ETA: 0s - loss: 0.5215 - accuracy: 0.8047\n",
      "Epoch 140: saving model to model/keypoint_classifier\\keypoint_classifier.hdf5\n",
      "30/30 [==============================] - 0s 4ms/step - loss: 0.5638 - accuracy: 0.8008 - val_loss: 0.2596 - val_accuracy: 0.9546\n",
      "Epoch 141/1000\n",
      "28/30 [===========================>..] - ETA: 0s - loss: 0.5450 - accuracy: 0.8041\n",
      "Epoch 141: saving model to model/keypoint_classifier\\keypoint_classifier.hdf5\n",
      "30/30 [==============================] - 0s 4ms/step - loss: 0.5457 - accuracy: 0.8045 - val_loss: 0.2629 - val_accuracy: 0.9427\n",
      "Epoch 142/1000\n",
      " 1/30 [>.............................] - ETA: 0s - loss: 0.6003 - accuracy: 0.7891\n",
      "Epoch 142: saving model to model/keypoint_classifier\\keypoint_classifier.hdf5\n",
      "30/30 [==============================] - 0s 3ms/step - loss: 0.5578 - accuracy: 0.7944 - val_loss: 0.2747 - val_accuracy: 0.9451\n",
      "Epoch 143/1000\n",
      " 1/30 [>.............................] - ETA: 0s - loss: 0.4921 - accuracy: 0.8359\n",
      "Epoch 143: saving model to model/keypoint_classifier\\keypoint_classifier.hdf5\n",
      "30/30 [==============================] - 0s 4ms/step - loss: 0.5297 - accuracy: 0.8151 - val_loss: 0.2645 - val_accuracy: 0.9459\n",
      "Epoch 144/1000\n",
      " 1/30 [>.............................] - ETA: 0s - loss: 0.4580 - accuracy: 0.8594\n",
      "Epoch 144: saving model to model/keypoint_classifier\\keypoint_classifier.hdf5\n",
      "30/30 [==============================] - 0s 3ms/step - loss: 0.5320 - accuracy: 0.8053 - val_loss: 0.2497 - val_accuracy: 0.9562\n",
      "Epoch 145/1000\n",
      " 1/30 [>.............................] - ETA: 0s - loss: 0.6274 - accuracy: 0.7266\n",
      "Epoch 145: saving model to model/keypoint_classifier\\keypoint_classifier.hdf5\n",
      "30/30 [==============================] - 0s 3ms/step - loss: 0.5562 - accuracy: 0.7997 - val_loss: 0.2623 - val_accuracy: 0.9514\n",
      "Epoch 146/1000\n",
      "25/30 [========================>.....] - ETA: 0s - loss: 0.5394 - accuracy: 0.8069\n",
      "Epoch 146: saving model to model/keypoint_classifier\\keypoint_classifier.hdf5\n",
      "30/30 [==============================] - 0s 4ms/step - loss: 0.5396 - accuracy: 0.8061 - val_loss: 0.2584 - val_accuracy: 0.9546\n",
      "Epoch 147/1000\n",
      "30/30 [==============================] - ETA: 0s - loss: 0.5399 - accuracy: 0.8053\n",
      "Epoch 147: saving model to model/keypoint_classifier\\keypoint_classifier.hdf5\n",
      "30/30 [==============================] - 0s 4ms/step - loss: 0.5399 - accuracy: 0.8053 - val_loss: 0.2533 - val_accuracy: 0.9554\n",
      "Epoch 148/1000\n",
      "24/30 [=======================>......] - ETA: 0s - loss: 0.5354 - accuracy: 0.8005\n",
      "Epoch 148: saving model to model/keypoint_classifier\\keypoint_classifier.hdf5\n",
      "30/30 [==============================] - 0s 4ms/step - loss: 0.5351 - accuracy: 0.8037 - val_loss: 0.2499 - val_accuracy: 0.9538\n",
      "Epoch 149/1000\n",
      "28/30 [===========================>..] - ETA: 0s - loss: 0.5302 - accuracy: 0.8064\n",
      "Epoch 149: saving model to model/keypoint_classifier\\keypoint_classifier.hdf5\n",
      "30/30 [==============================] - 0s 4ms/step - loss: 0.5313 - accuracy: 0.8061 - val_loss: 0.2472 - val_accuracy: 0.9554\n",
      "Epoch 150/1000\n",
      " 1/30 [>.............................] - ETA: 0s - loss: 0.4155 - accuracy: 0.8906\n",
      "Epoch 150: saving model to model/keypoint_classifier\\keypoint_classifier.hdf5\n",
      "30/30 [==============================] - 0s 4ms/step - loss: 0.5590 - accuracy: 0.7992 - val_loss: 0.2521 - val_accuracy: 0.9506\n",
      "Epoch 151/1000\n",
      " 1/30 [>.............................] - ETA: 0s - loss: 0.5955 - accuracy: 0.7891\n",
      "Epoch 151: saving model to model/keypoint_classifier\\keypoint_classifier.hdf5\n",
      "30/30 [==============================] - 0s 3ms/step - loss: 0.5450 - accuracy: 0.8088 - val_loss: 0.2497 - val_accuracy: 0.9554\n",
      "Epoch 152/1000\n",
      " 1/30 [>.............................] - ETA: 0s - loss: 0.5589 - accuracy: 0.8047\n",
      "Epoch 152: saving model to model/keypoint_classifier\\keypoint_classifier.hdf5\n",
      "30/30 [==============================] - 0s 3ms/step - loss: 0.5363 - accuracy: 0.8080 - val_loss: 0.2505 - val_accuracy: 0.9546\n",
      "Epoch 153/1000\n",
      " 1/30 [>.............................] - ETA: 0s - loss: 0.5645 - accuracy: 0.7656\n",
      "Epoch 153: saving model to model/keypoint_classifier\\keypoint_classifier.hdf5\n",
      "30/30 [==============================] - 0s 4ms/step - loss: 0.5318 - accuracy: 0.8077 - val_loss: 0.2428 - val_accuracy: 0.9610\n",
      "Epoch 154/1000\n",
      " 1/30 [>.............................] - ETA: 0s - loss: 0.5973 - accuracy: 0.8047\n",
      "Epoch 154: saving model to model/keypoint_classifier\\keypoint_classifier.hdf5\n",
      "30/30 [==============================] - 0s 3ms/step - loss: 0.5294 - accuracy: 0.8085 - val_loss: 0.2385 - val_accuracy: 0.9570\n",
      "Epoch 155/1000\n",
      " 1/30 [>.............................] - ETA: 0s - loss: 0.5313 - accuracy: 0.8281\n",
      "Epoch 155: saving model to model/keypoint_classifier\\keypoint_classifier.hdf5\n",
      "30/30 [==============================] - 0s 4ms/step - loss: 0.5454 - accuracy: 0.8032 - val_loss: 0.2521 - val_accuracy: 0.9538\n",
      "Epoch 156/1000\n",
      " 1/30 [>.............................] - ETA: 0s - loss: 0.6830 - accuracy: 0.7422\n",
      "Epoch 156: saving model to model/keypoint_classifier\\keypoint_classifier.hdf5\n",
      "30/30 [==============================] - 0s 4ms/step - loss: 0.5446 - accuracy: 0.8072 - val_loss: 0.2481 - val_accuracy: 0.9554\n",
      "Epoch 157/1000\n",
      " 1/30 [>.............................] - ETA: 0s - loss: 0.4773 - accuracy: 0.8203\n",
      "Epoch 157: saving model to model/keypoint_classifier\\keypoint_classifier.hdf5\n",
      "30/30 [==============================] - 0s 4ms/step - loss: 0.5243 - accuracy: 0.8104 - val_loss: 0.2557 - val_accuracy: 0.9498\n",
      "Epoch 158/1000\n",
      "27/30 [==========================>...] - ETA: 0s - loss: 0.5472 - accuracy: 0.8030\n",
      "Epoch 158: saving model to model/keypoint_classifier\\keypoint_classifier.hdf5\n",
      "30/30 [==============================] - 0s 4ms/step - loss: 0.5443 - accuracy: 0.8032 - val_loss: 0.2398 - val_accuracy: 0.9570\n",
      "Epoch 159/1000\n",
      " 1/30 [>.............................] - ETA: 0s - loss: 0.5116 - accuracy: 0.7969\n",
      "Epoch 159: saving model to model/keypoint_classifier\\keypoint_classifier.hdf5\n",
      "30/30 [==============================] - 0s 3ms/step - loss: 0.5353 - accuracy: 0.8003 - val_loss: 0.2439 - val_accuracy: 0.9538\n",
      "Epoch 160/1000\n",
      " 1/30 [>.............................] - ETA: 0s - loss: 0.7093 - accuracy: 0.7578\n",
      "Epoch 160: saving model to model/keypoint_classifier\\keypoint_classifier.hdf5\n",
      "30/30 [==============================] - 0s 4ms/step - loss: 0.5619 - accuracy: 0.7973 - val_loss: 0.2478 - val_accuracy: 0.9586\n",
      "Epoch 161/1000\n",
      " 1/30 [>.............................] - ETA: 0s - loss: 0.4921 - accuracy: 0.8047\n",
      "Epoch 161: saving model to model/keypoint_classifier\\keypoint_classifier.hdf5\n",
      "30/30 [==============================] - 0s 3ms/step - loss: 0.5549 - accuracy: 0.8000 - val_loss: 0.2546 - val_accuracy: 0.9562\n",
      "Epoch 162/1000\n",
      " 1/30 [>.............................] - ETA: 0s - loss: 0.4147 - accuracy: 0.8359\n",
      "Epoch 162: saving model to model/keypoint_classifier\\keypoint_classifier.hdf5\n",
      "30/30 [==============================] - 0s 4ms/step - loss: 0.5485 - accuracy: 0.8032 - val_loss: 0.2445 - val_accuracy: 0.9586\n",
      "Epoch 163/1000\n",
      " 1/30 [>.............................] - ETA: 0s - loss: 0.4827 - accuracy: 0.8203\n",
      "Epoch 163: saving model to model/keypoint_classifier\\keypoint_classifier.hdf5\n",
      "30/30 [==============================] - 0s 3ms/step - loss: 0.5521 - accuracy: 0.7936 - val_loss: 0.2531 - val_accuracy: 0.9538\n",
      "Epoch 164/1000\n",
      " 1/30 [>.............................] - ETA: 0s - loss: 0.4481 - accuracy: 0.8516\n",
      "Epoch 164: saving model to model/keypoint_classifier\\keypoint_classifier.hdf5\n",
      "30/30 [==============================] - 0s 3ms/step - loss: 0.5397 - accuracy: 0.8074 - val_loss: 0.2597 - val_accuracy: 0.9514\n",
      "Epoch 165/1000\n",
      " 1/30 [>.............................] - ETA: 0s - loss: 0.3916 - accuracy: 0.8984\n",
      "Epoch 165: saving model to model/keypoint_classifier\\keypoint_classifier.hdf5\n",
      "30/30 [==============================] - 0s 3ms/step - loss: 0.5288 - accuracy: 0.8151 - val_loss: 0.2343 - val_accuracy: 0.9586\n",
      "Epoch 166/1000\n",
      " 1/30 [>.............................] - ETA: 0s - loss: 0.5173 - accuracy: 0.8359\n",
      "Epoch 166: saving model to model/keypoint_classifier\\keypoint_classifier.hdf5\n",
      "30/30 [==============================] - 0s 3ms/step - loss: 0.5507 - accuracy: 0.8027 - val_loss: 0.2407 - val_accuracy: 0.9538\n",
      "Epoch 167/1000\n",
      " 1/30 [>.............................] - ETA: 0s - loss: 0.5972 - accuracy: 0.7656\n",
      "Epoch 167: saving model to model/keypoint_classifier\\keypoint_classifier.hdf5\n",
      "30/30 [==============================] - 0s 3ms/step - loss: 0.5534 - accuracy: 0.7989 - val_loss: 0.2513 - val_accuracy: 0.9578\n",
      "Epoch 168/1000\n",
      "28/30 [===========================>..] - ETA: 0s - loss: 0.5212 - accuracy: 0.8089\n",
      "Epoch 168: saving model to model/keypoint_classifier\\keypoint_classifier.hdf5\n",
      "30/30 [==============================] - 0s 4ms/step - loss: 0.5264 - accuracy: 0.8088 - val_loss: 0.2497 - val_accuracy: 0.9538\n",
      "Epoch 169/1000\n",
      " 1/30 [>.............................] - ETA: 0s - loss: 0.5754 - accuracy: 0.7812\n",
      "Epoch 169: saving model to model/keypoint_classifier\\keypoint_classifier.hdf5\n",
      "30/30 [==============================] - 0s 4ms/step - loss: 0.5257 - accuracy: 0.8127 - val_loss: 0.2424 - val_accuracy: 0.9578\n",
      "Epoch 170/1000\n",
      " 1/30 [>.............................] - ETA: 0s - loss: 0.5937 - accuracy: 0.7656\n",
      "Epoch 170: saving model to model/keypoint_classifier\\keypoint_classifier.hdf5\n",
      "30/30 [==============================] - 0s 4ms/step - loss: 0.5224 - accuracy: 0.8167 - val_loss: 0.2468 - val_accuracy: 0.9467\n",
      "Epoch 171/1000\n",
      "22/30 [=====================>........] - ETA: 0s - loss: 0.5369 - accuracy: 0.8033\n",
      "Epoch 171: saving model to model/keypoint_classifier\\keypoint_classifier.hdf5\n",
      "30/30 [==============================] - 0s 4ms/step - loss: 0.5395 - accuracy: 0.8037 - val_loss: 0.2506 - val_accuracy: 0.9522\n",
      "Epoch 172/1000\n",
      " 1/30 [>.............................] - ETA: 0s - loss: 0.5456 - accuracy: 0.8281\n",
      "Epoch 172: saving model to model/keypoint_classifier\\keypoint_classifier.hdf5\n",
      "30/30 [==============================] - 0s 4ms/step - loss: 0.5358 - accuracy: 0.8072 - val_loss: 0.2511 - val_accuracy: 0.9546\n",
      "Epoch 173/1000\n",
      " 1/30 [>.............................] - ETA: 0s - loss: 0.3648 - accuracy: 0.9062\n",
      "Epoch 173: saving model to model/keypoint_classifier\\keypoint_classifier.hdf5\n",
      "30/30 [==============================] - 0s 3ms/step - loss: 0.5134 - accuracy: 0.8138 - val_loss: 0.2434 - val_accuracy: 0.9562\n",
      "Epoch 174/1000\n",
      " 1/30 [>.............................] - ETA: 0s - loss: 0.4497 - accuracy: 0.8594\n",
      "Epoch 174: saving model to model/keypoint_classifier\\keypoint_classifier.hdf5\n",
      "30/30 [==============================] - 0s 3ms/step - loss: 0.5309 - accuracy: 0.8106 - val_loss: 0.2404 - val_accuracy: 0.9570\n",
      "Epoch 175/1000\n",
      " 1/30 [>.............................] - ETA: 0s - loss: 0.5805 - accuracy: 0.8047\n",
      "Epoch 175: saving model to model/keypoint_classifier\\keypoint_classifier.hdf5\n",
      "30/30 [==============================] - 0s 3ms/step - loss: 0.5162 - accuracy: 0.8109 - val_loss: 0.2360 - val_accuracy: 0.9578\n",
      "Epoch 176/1000\n",
      " 1/30 [>.............................] - ETA: 0s - loss: 0.6302 - accuracy: 0.7656\n",
      "Epoch 176: saving model to model/keypoint_classifier\\keypoint_classifier.hdf5\n",
      "30/30 [==============================] - 0s 4ms/step - loss: 0.5452 - accuracy: 0.8019 - val_loss: 0.2377 - val_accuracy: 0.9562\n",
      "Epoch 177/1000\n",
      "29/30 [============================>.] - ETA: 0s - loss: 0.5068 - accuracy: 0.8203\n",
      "Epoch 177: saving model to model/keypoint_classifier\\keypoint_classifier.hdf5\n",
      "30/30 [==============================] - 0s 4ms/step - loss: 0.5043 - accuracy: 0.8210 - val_loss: 0.2356 - val_accuracy: 0.9578\n",
      "Epoch 178/1000\n",
      " 1/30 [>.............................] - ETA: 0s - loss: 0.5743 - accuracy: 0.7891\n",
      "Epoch 178: saving model to model/keypoint_classifier\\keypoint_classifier.hdf5\n",
      "30/30 [==============================] - 0s 4ms/step - loss: 0.5186 - accuracy: 0.8154 - val_loss: 0.2320 - val_accuracy: 0.9578\n",
      "Epoch 179/1000\n",
      " 1/30 [>.............................] - ETA: 0s - loss: 0.6657 - accuracy: 0.7812\n",
      "Epoch 179: saving model to model/keypoint_classifier\\keypoint_classifier.hdf5\n",
      "30/30 [==============================] - 0s 3ms/step - loss: 0.5292 - accuracy: 0.8090 - val_loss: 0.2360 - val_accuracy: 0.9578\n",
      "Epoch 180/1000\n",
      " 1/30 [>.............................] - ETA: 0s - loss: 0.6226 - accuracy: 0.7578\n",
      "Epoch 180: saving model to model/keypoint_classifier\\keypoint_classifier.hdf5\n",
      "30/30 [==============================] - 0s 4ms/step - loss: 0.5247 - accuracy: 0.8135 - val_loss: 0.2350 - val_accuracy: 0.9618\n",
      "Epoch 181/1000\n",
      " 1/30 [>.............................] - ETA: 0s - loss: 0.4963 - accuracy: 0.8047\n",
      "Epoch 181: saving model to model/keypoint_classifier\\keypoint_classifier.hdf5\n",
      "30/30 [==============================] - 0s 3ms/step - loss: 0.5067 - accuracy: 0.8247 - val_loss: 0.2348 - val_accuracy: 0.9586\n",
      "Epoch 182/1000\n",
      "29/30 [============================>.] - ETA: 0s - loss: 0.5417 - accuracy: 0.8058\n",
      "Epoch 182: saving model to model/keypoint_classifier\\keypoint_classifier.hdf5\n",
      "30/30 [==============================] - 0s 4ms/step - loss: 0.5408 - accuracy: 0.8061 - val_loss: 0.2353 - val_accuracy: 0.9618\n",
      "Epoch 183/1000\n",
      " 1/30 [>.............................] - ETA: 0s - loss: 0.5067 - accuracy: 0.8438\n",
      "Epoch 183: saving model to model/keypoint_classifier\\keypoint_classifier.hdf5\n",
      "30/30 [==============================] - 0s 4ms/step - loss: 0.5211 - accuracy: 0.8197 - val_loss: 0.2358 - val_accuracy: 0.9618\n",
      "Epoch 184/1000\n",
      " 1/30 [>.............................] - ETA: 0s - loss: 0.6513 - accuracy: 0.7578\n",
      "Epoch 184: saving model to model/keypoint_classifier\\keypoint_classifier.hdf5\n",
      "30/30 [==============================] - 0s 4ms/step - loss: 0.5266 - accuracy: 0.8143 - val_loss: 0.2299 - val_accuracy: 0.9586\n",
      "Epoch 185/1000\n",
      " 1/30 [>.............................] - ETA: 0s - loss: 0.4591 - accuracy: 0.8438\n",
      "Epoch 185: saving model to model/keypoint_classifier\\keypoint_classifier.hdf5\n",
      "30/30 [==============================] - 0s 3ms/step - loss: 0.5246 - accuracy: 0.8117 - val_loss: 0.2344 - val_accuracy: 0.9594\n",
      "Epoch 186/1000\n",
      " 1/30 [>.............................] - ETA: 0s - loss: 0.5914 - accuracy: 0.7656\n",
      "Epoch 186: saving model to model/keypoint_classifier\\keypoint_classifier.hdf5\n",
      "30/30 [==============================] - 0s 4ms/step - loss: 0.5274 - accuracy: 0.8135 - val_loss: 0.2413 - val_accuracy: 0.9594\n",
      "Epoch 187/1000\n",
      " 1/30 [>.............................] - ETA: 0s - loss: 0.5196 - accuracy: 0.8438\n",
      "Epoch 187: saving model to model/keypoint_classifier\\keypoint_classifier.hdf5\n",
      "30/30 [==============================] - 0s 4ms/step - loss: 0.5114 - accuracy: 0.8202 - val_loss: 0.2311 - val_accuracy: 0.9594\n",
      "Epoch 188/1000\n",
      "28/30 [===========================>..] - ETA: 0s - loss: 0.5396 - accuracy: 0.8055\n",
      "Epoch 188: saving model to model/keypoint_classifier\\keypoint_classifier.hdf5\n",
      "30/30 [==============================] - 0s 4ms/step - loss: 0.5447 - accuracy: 0.8042 - val_loss: 0.2309 - val_accuracy: 0.9602\n",
      "Epoch 189/1000\n",
      " 1/30 [>.............................] - ETA: 0s - loss: 0.5570 - accuracy: 0.8047\n",
      "Epoch 189: saving model to model/keypoint_classifier\\keypoint_classifier.hdf5\n",
      "30/30 [==============================] - 0s 3ms/step - loss: 0.5450 - accuracy: 0.8045 - val_loss: 0.2465 - val_accuracy: 0.9546\n",
      "Epoch 190/1000\n",
      "27/30 [==========================>...] - ETA: 0s - loss: 0.5224 - accuracy: 0.8073\n",
      "Epoch 190: saving model to model/keypoint_classifier\\keypoint_classifier.hdf5\n",
      "30/30 [==============================] - 0s 4ms/step - loss: 0.5252 - accuracy: 0.8072 - val_loss: 0.2386 - val_accuracy: 0.9594\n",
      "Epoch 191/1000\n",
      " 1/30 [>.............................] - ETA: 0s - loss: 0.6406 - accuracy: 0.7578\n",
      "Epoch 191: saving model to model/keypoint_classifier\\keypoint_classifier.hdf5\n",
      "30/30 [==============================] - 0s 4ms/step - loss: 0.5389 - accuracy: 0.8032 - val_loss: 0.2395 - val_accuracy: 0.9570\n",
      "Epoch 192/1000\n",
      " 1/30 [>.............................] - ETA: 0s - loss: 0.5121 - accuracy: 0.7891\n",
      "Epoch 192: saving model to model/keypoint_classifier\\keypoint_classifier.hdf5\n",
      "30/30 [==============================] - 0s 4ms/step - loss: 0.5135 - accuracy: 0.8130 - val_loss: 0.2305 - val_accuracy: 0.9602\n",
      "Epoch 193/1000\n",
      " 1/30 [>.............................] - ETA: 0s - loss: 0.4646 - accuracy: 0.8359\n",
      "Epoch 193: saving model to model/keypoint_classifier\\keypoint_classifier.hdf5\n",
      "30/30 [==============================] - 0s 4ms/step - loss: 0.5158 - accuracy: 0.8159 - val_loss: 0.2241 - val_accuracy: 0.9618\n",
      "Epoch 194/1000\n",
      " 1/30 [>.............................] - ETA: 0s - loss: 0.5402 - accuracy: 0.8047\n",
      "Epoch 194: saving model to model/keypoint_classifier\\keypoint_classifier.hdf5\n",
      "30/30 [==============================] - 0s 4ms/step - loss: 0.5372 - accuracy: 0.7981 - val_loss: 0.2375 - val_accuracy: 0.9570\n",
      "Epoch 195/1000\n",
      " 1/30 [>.............................] - ETA: 0s - loss: 0.5690 - accuracy: 0.7812\n",
      "Epoch 195: saving model to model/keypoint_classifier\\keypoint_classifier.hdf5\n",
      "30/30 [==============================] - 0s 4ms/step - loss: 0.5257 - accuracy: 0.8109 - val_loss: 0.2453 - val_accuracy: 0.9562\n",
      "Epoch 196/1000\n",
      " 1/30 [>.............................] - ETA: 0s - loss: 0.5467 - accuracy: 0.7891\n",
      "Epoch 196: saving model to model/keypoint_classifier\\keypoint_classifier.hdf5\n",
      "30/30 [==============================] - 0s 3ms/step - loss: 0.5479 - accuracy: 0.8050 - val_loss: 0.2394 - val_accuracy: 0.9578\n",
      "Epoch 197/1000\n",
      "30/30 [==============================] - ETA: 0s - loss: 0.5238 - accuracy: 0.8194\n",
      "Epoch 197: saving model to model/keypoint_classifier\\keypoint_classifier.hdf5\n",
      "30/30 [==============================] - 0s 4ms/step - loss: 0.5238 - accuracy: 0.8194 - val_loss: 0.2352 - val_accuracy: 0.9610\n",
      "Epoch 198/1000\n",
      " 1/30 [>.............................] - ETA: 0s - loss: 0.5956 - accuracy: 0.7188\n",
      "Epoch 198: saving model to model/keypoint_classifier\\keypoint_classifier.hdf5\n",
      "30/30 [==============================] - 0s 3ms/step - loss: 0.5058 - accuracy: 0.8149 - val_loss: 0.2223 - val_accuracy: 0.9610\n",
      "Epoch 199/1000\n",
      "29/30 [============================>.] - ETA: 0s - loss: 0.5257 - accuracy: 0.8077\n",
      "Epoch 199: saving model to model/keypoint_classifier\\keypoint_classifier.hdf5\n",
      "30/30 [==============================] - 0s 4ms/step - loss: 0.5310 - accuracy: 0.8061 - val_loss: 0.2308 - val_accuracy: 0.9602\n",
      "Epoch 200/1000\n",
      " 1/30 [>.............................] - ETA: 0s - loss: 0.5871 - accuracy: 0.7969\n",
      "Epoch 200: saving model to model/keypoint_classifier\\keypoint_classifier.hdf5\n",
      "30/30 [==============================] - 0s 4ms/step - loss: 0.5305 - accuracy: 0.8085 - val_loss: 0.2262 - val_accuracy: 0.9610\n",
      "Epoch 201/1000\n",
      " 1/30 [>.............................] - ETA: 0s - loss: 0.6076 - accuracy: 0.7734\n",
      "Epoch 201: saving model to model/keypoint_classifier\\keypoint_classifier.hdf5\n",
      "30/30 [==============================] - 0s 3ms/step - loss: 0.4972 - accuracy: 0.8205 - val_loss: 0.2253 - val_accuracy: 0.9570\n",
      "Epoch 202/1000\n",
      " 1/30 [>.............................] - ETA: 0s - loss: 0.4940 - accuracy: 0.8359\n",
      "Epoch 202: saving model to model/keypoint_classifier\\keypoint_classifier.hdf5\n",
      "30/30 [==============================] - 0s 4ms/step - loss: 0.5126 - accuracy: 0.8106 - val_loss: 0.2285 - val_accuracy: 0.9594\n",
      "Epoch 203/1000\n",
      " 1/30 [>.............................] - ETA: 0s - loss: 0.4219 - accuracy: 0.8438\n",
      "Epoch 203: saving model to model/keypoint_classifier\\keypoint_classifier.hdf5\n",
      "30/30 [==============================] - 0s 3ms/step - loss: 0.5074 - accuracy: 0.8194 - val_loss: 0.2261 - val_accuracy: 0.9602\n",
      "Epoch 204/1000\n",
      "28/30 [===========================>..] - ETA: 0s - loss: 0.5019 - accuracy: 0.8228\n",
      "Epoch 204: saving model to model/keypoint_classifier\\keypoint_classifier.hdf5\n",
      "30/30 [==============================] - 0s 4ms/step - loss: 0.5014 - accuracy: 0.8234 - val_loss: 0.2320 - val_accuracy: 0.9562\n",
      "Epoch 205/1000\n",
      " 1/30 [>.............................] - ETA: 0s - loss: 0.4805 - accuracy: 0.8203\n",
      "Epoch 205: saving model to model/keypoint_classifier\\keypoint_classifier.hdf5\n",
      "30/30 [==============================] - 0s 3ms/step - loss: 0.5188 - accuracy: 0.8157 - val_loss: 0.2269 - val_accuracy: 0.9626\n",
      "Epoch 206/1000\n",
      " 1/30 [>.............................] - ETA: 0s - loss: 0.6081 - accuracy: 0.8047\n",
      "Epoch 206: saving model to model/keypoint_classifier\\keypoint_classifier.hdf5\n",
      "30/30 [==============================] - 0s 4ms/step - loss: 0.5193 - accuracy: 0.8154 - val_loss: 0.2379 - val_accuracy: 0.9554\n",
      "Epoch 207/1000\n",
      " 1/30 [>.............................] - ETA: 0s - loss: 0.4639 - accuracy: 0.8438\n",
      "Epoch 207: saving model to model/keypoint_classifier\\keypoint_classifier.hdf5\n",
      "30/30 [==============================] - 0s 4ms/step - loss: 0.5104 - accuracy: 0.8181 - val_loss: 0.2360 - val_accuracy: 0.9570\n",
      "Epoch 208/1000\n",
      " 1/30 [>.............................] - ETA: 0s - loss: 0.4295 - accuracy: 0.8516\n",
      "Epoch 208: saving model to model/keypoint_classifier\\keypoint_classifier.hdf5\n",
      "30/30 [==============================] - 0s 4ms/step - loss: 0.5135 - accuracy: 0.8143 - val_loss: 0.2288 - val_accuracy: 0.9562\n",
      "Epoch 209/1000\n",
      "24/30 [=======================>......] - ETA: 0s - loss: 0.5238 - accuracy: 0.8135\n",
      "Epoch 209: saving model to model/keypoint_classifier\\keypoint_classifier.hdf5\n",
      "30/30 [==============================] - 0s 4ms/step - loss: 0.5185 - accuracy: 0.8141 - val_loss: 0.2288 - val_accuracy: 0.9554\n",
      "Epoch 210/1000\n",
      " 1/30 [>.............................] - ETA: 0s - loss: 0.4773 - accuracy: 0.8047\n",
      "Epoch 210: saving model to model/keypoint_classifier\\keypoint_classifier.hdf5\n",
      "30/30 [==============================] - 0s 3ms/step - loss: 0.5224 - accuracy: 0.8138 - val_loss: 0.2294 - val_accuracy: 0.9610\n",
      "Epoch 211/1000\n",
      " 1/30 [>.............................] - ETA: 0s - loss: 0.5390 - accuracy: 0.8281\n",
      "Epoch 211: saving model to model/keypoint_classifier\\keypoint_classifier.hdf5\n",
      "30/30 [==============================] - 0s 3ms/step - loss: 0.5301 - accuracy: 0.8130 - val_loss: 0.2408 - val_accuracy: 0.9562\n",
      "Epoch 212/1000\n",
      "29/30 [============================>.] - ETA: 0s - loss: 0.5361 - accuracy: 0.8074\n",
      "Epoch 212: saving model to model/keypoint_classifier\\keypoint_classifier.hdf5\n",
      "30/30 [==============================] - 0s 4ms/step - loss: 0.5354 - accuracy: 0.8066 - val_loss: 0.2322 - val_accuracy: 0.9586\n",
      "Epoch 213/1000\n",
      " 1/30 [>.............................] - ETA: 0s - loss: 0.5845 - accuracy: 0.7578\n",
      "Epoch 213: saving model to model/keypoint_classifier\\keypoint_classifier.hdf5\n",
      "30/30 [==============================] - 0s 4ms/step - loss: 0.5029 - accuracy: 0.8191 - val_loss: 0.2273 - val_accuracy: 0.9578\n",
      "Epoch 214/1000\n",
      " 1/30 [>.............................] - ETA: 0s - loss: 0.5566 - accuracy: 0.7891\n",
      "Epoch 214: saving model to model/keypoint_classifier\\keypoint_classifier.hdf5\n",
      "30/30 [==============================] - 0s 4ms/step - loss: 0.5375 - accuracy: 0.8101 - val_loss: 0.2227 - val_accuracy: 0.9578\n",
      "Epoch 215/1000\n",
      " 1/30 [>.............................] - ETA: 0s - loss: 0.6178 - accuracy: 0.8047\n",
      "Epoch 215: saving model to model/keypoint_classifier\\keypoint_classifier.hdf5\n",
      "30/30 [==============================] - 0s 4ms/step - loss: 0.5077 - accuracy: 0.8159 - val_loss: 0.2255 - val_accuracy: 0.9554\n",
      "Epoch 216/1000\n",
      " 1/30 [>.............................] - ETA: 0s - loss: 0.3681 - accuracy: 0.8594\n",
      "Epoch 216: saving model to model/keypoint_classifier\\keypoint_classifier.hdf5\n",
      "30/30 [==============================] - 0s 4ms/step - loss: 0.5025 - accuracy: 0.8133 - val_loss: 0.2225 - val_accuracy: 0.9610\n",
      "Epoch 217/1000\n",
      " 1/30 [>.............................] - ETA: 0s - loss: 0.4624 - accuracy: 0.8359\n",
      "Epoch 217: saving model to model/keypoint_classifier\\keypoint_classifier.hdf5\n",
      "30/30 [==============================] - 0s 4ms/step - loss: 0.5143 - accuracy: 0.8205 - val_loss: 0.2253 - val_accuracy: 0.9554\n",
      "Epoch 218/1000\n",
      " 1/30 [>.............................] - ETA: 0s - loss: 0.5588 - accuracy: 0.8203\n",
      "Epoch 218: saving model to model/keypoint_classifier\\keypoint_classifier.hdf5\n",
      "30/30 [==============================] - 0s 4ms/step - loss: 0.5203 - accuracy: 0.8112 - val_loss: 0.2320 - val_accuracy: 0.9594\n",
      "Epoch 218: early stopping\n"
     ]
    },
    {
     "data": {
      "text/plain": [
       "<keras.src.callbacks.History at 0x1b6e1b125d0>"
      ]
     },
     "execution_count": 11,
     "metadata": {},
     "output_type": "execute_result"
    }
   ],
   "source": [
    "model.fit(\n",
    "    X_train,\n",
    "    y_train,\n",
    "    epochs=1000,\n",
    "    batch_size=128,\n",
    "    validation_data=(X_test, y_test),\n",
    "    callbacks=[cp_callback, es_callback]\n",
    ")"
   ]
  },
  {
   "cell_type": "code",
   "execution_count": 12,
   "metadata": {
    "colab": {
     "base_uri": "https://localhost:8080/"
    },
    "id": "pxvb2Y299hE3",
    "outputId": "59eb3185-2e37-4b9e-bc9d-ab1b8ac29b7f"
   },
   "outputs": [
    {
     "name": "stdout",
     "output_type": "stream",
     "text": [
      "10/10 [==============================] - 0s 96us/step - loss: 0.2320 - accuracy: 0.9594\n"
     ]
    }
   ],
   "source": [
    "# Model evaluation\n",
    "val_loss, val_acc = model.evaluate(X_test, y_test, batch_size=128)"
   ]
  },
  {
   "cell_type": "code",
   "execution_count": 13,
   "metadata": {
    "id": "RBkmDeUW9hE4"
   },
   "outputs": [],
   "source": [
    "# Loading the saved model\n",
    "model = tf.keras.models.load_model(model_save_path)"
   ]
  },
  {
   "cell_type": "code",
   "execution_count": 14,
   "metadata": {
    "colab": {
     "base_uri": "https://localhost:8080/"
    },
    "id": "tFz9Tb0I9hE4",
    "outputId": "1c3b3528-54ae-4ee2-ab04-77429211cbef"
   },
   "outputs": [
    {
     "name": "stdout",
     "output_type": "stream",
     "text": [
      "1/1 [==============================] - 0s 85ms/step\n",
      "[8.5797000e-01 1.4191860e-01 1.1093916e-04 3.8223342e-07 3.7886152e-09]\n",
      "0\n"
     ]
    }
   ],
   "source": [
    "# Inference test\n",
    "predict_result = model.predict(np.array([X_test[0]]))\n",
    "print(np.squeeze(predict_result))\n",
    "print(np.argmax(np.squeeze(predict_result)))"
   ]
  },
  {
   "cell_type": "markdown",
   "metadata": {
    "id": "S3U4yNWx9hE4"
   },
   "source": [
    "# Confusion matrix"
   ]
  },
  {
   "cell_type": "code",
   "execution_count": 16,
   "metadata": {
    "colab": {
     "base_uri": "https://localhost:8080/",
     "height": 582
    },
    "id": "AP1V6SCk9hE5",
    "outputId": "08e41a80-7a4a-4619-8125-ecc371368d19"
   },
   "outputs": [
    {
     "name": "stdout",
     "output_type": "stream",
     "text": [
      "40/40 [==============================] - 0s 880us/step\n"
     ]
    },
    {
     "data": {
      "image/png": "[encoded data removed]",
      "text/plain": [
       "<Figure size 700x600 with 2 Axes>"
      ]
     },
     "metadata": {},
     "output_type": "display_data"
    },
    {
     "name": "stdout",
     "output_type": "stream",
     "text": [
      "Classification Report\n",
      "              precision    recall  f1-score   support\n",
      "\n",
      "           0       0.96      1.00      0.98       391\n",
      "           1       0.99      0.91      0.95       390\n",
      "           2       0.91      0.97      0.94       325\n",
      "           3       1.00      0.97      0.98        88\n",
      "           4       1.00      0.95      0.98        62\n",
      "\n",
      "    accuracy                           0.96      1256\n",
      "   macro avg       0.97      0.96      0.96      1256\n",
      "weighted avg       0.96      0.96      0.96      1256\n",
      "\n"
     ]
    }
   ],
   "source": [
    "import pandas as pd\n",
    "import seaborn as sns\n",
    "import matplotlib.pyplot as plt\n",
    "from sklearn.metrics import confusion_matrix, classification_report\n",
    "\n",
    "def print_confusion_matrix(y_true, y_pred, report=True):\n",
    "    labels = sorted(list(set(y_true)))\n",
    "    cmx_data = confusion_matrix(y_true, y_pred, labels=labels)\n",
    "    \n",
    "    df_cmx = pd.DataFrame(cmx_data, index=labels, columns=labels)\n",
    " \n",
    "    fig, ax = plt.subplots(figsize=(7, 6))\n",
    "    sns.heatmap(df_cmx, annot=True, fmt='g' ,square=False)\n",
    "    ax.set_ylim(len(set(y_true)), 0)\n",
    "    plt.show()\n",
    "    \n",
    "    if report:\n",
    "        print('Classification Report')\n",
    "        print(classification_report(y_test, y_pred))\n",
    "\n",
    "Y_pred = model.predict(X_test)\n",
    "y_pred = np.argmax(Y_pred, axis=1)\n",
    "\n",
    "print_confusion_matrix(y_test, y_pred)"
   ]
  },
  {
   "cell_type": "markdown",
   "metadata": {
    "id": "FNP6aqzc9hE5"
   },
   "source": [
    "# Convert to model for Tensorflow-Lite"
   ]
  },
  {
   "cell_type": "code",
   "execution_count": 17,
   "metadata": {
    "id": "ODjnYyld9hE6"
   },
   "outputs": [
    {
     "name": "stderr",
     "output_type": "stream",
     "text": [
      "C:\\Users\\Nguyen Ngoc Huy\\AppData\\Local\\Programs\\Python\\Python311\\Lib\\site-packages\\keras\\src\\engine\\training.py:3000: UserWarning: You are saving your model as an HDF5 file via `model.save()`. This file format is considered legacy. We recommend using instead the native Keras format, e.g. `model.save('my_model.keras')`.\n",
      "  saving_api.save_model(\n"
     ]
    }
   ],
   "source": [
    "# Save as a model dedicated to inference\n",
    "model.save(model_save_path, include_optimizer=False)"
   ]
  },
  {
   "cell_type": "code",
   "execution_count": 18,
   "metadata": {
    "colab": {
     "base_uri": "https://localhost:8080/"
    },
    "id": "zRfuK8Y59hE6",
    "outputId": "a4ca585c-b5d5-4244-8291-8674063209bb"
   },
   "outputs": [
    {
     "name": "stdout",
     "output_type": "stream",
     "text": [
      "INFO:tensorflow:Assets written to: C:\\Users\\NGUYEN~1\\AppData\\Local\\Temp\\tmp3bmu8w76\\assets\n"
     ]
    },
    {
     "name": "stderr",
     "output_type": "stream",
     "text": [
      "INFO:tensorflow:Assets written to: C:\\Users\\NGUYEN~1\\AppData\\Local\\Temp\\tmp3bmu8w76\\assets\n"
     ]
    },
    {
     "data": {
      "text/plain": [
       "6588"
      ]
     },
     "execution_count": 18,
     "metadata": {},
     "output_type": "execute_result"
    }
   ],
   "source": [
    "# Transform model (quantization)\n",
    "\n",
    "converter = tf.lite.TFLiteConverter.from_keras_model(model)\n",
    "converter.optimizations = [tf.lite.Optimize.DEFAULT]\n",
    "tflite_quantized_model = converter.convert()\n",
    "\n",
    "open(tflite_save_path, 'wb').write(tflite_quantized_model)"
   ]
  },
  {
   "cell_type": "markdown",
   "metadata": {
    "id": "CHBPBXdx9hE6"
   },
   "source": [
    "# Inference test"
   ]
  },
  {
   "cell_type": "code",
   "execution_count": 19,
   "metadata": {
    "id": "mGAzLocO9hE7"
   },
   "outputs": [],
   "source": [
    "interpreter = tf.lite.Interpreter(model_path=tflite_save_path)\n",
    "interpreter.allocate_tensors()"
   ]
  },
  {
   "cell_type": "code",
   "execution_count": 20,
   "metadata": {
    "id": "oQuDK8YS9hE7"
   },
   "outputs": [],
   "source": [
    "# Get I / O tensor\n",
    "input_details = interpreter.get_input_details()\n",
    "output_details = interpreter.get_output_details()"
   ]
  },
  {
   "cell_type": "code",
   "execution_count": 21,
   "metadata": {
    "id": "2_ixAf_l9hE7"
   },
   "outputs": [],
   "source": [
    "interpreter.set_tensor(input_details[0]['index'], np.array([X_test[0]]))"
   ]
  },
  {
   "cell_type": "code",
   "execution_count": 22,
   "metadata": {
    "colab": {
     "base_uri": "https://localhost:8080/"
    },
    "id": "s4FoAnuc9hE7",
    "outputId": "91f18257-8d8b-4ef3-c558-e9b5f94fabbf",
    "scrolled": true
   },
   "outputs": [
    {
     "name": "stdout",
     "output_type": "stream",
     "text": [
      "CPU times: total: 0 ns\n",
      "Wall time: 0 ns\n"
     ]
    }
   ],
   "source": [
    "%%time\n",
    "# Inference implementation\n",
    "interpreter.invoke()\n",
    "tflite_results = interpreter.get_tensor(output_details[0]['index'])"
   ]
  },
  {
   "cell_type": "code",
   "execution_count": 23,
   "metadata": {
    "colab": {
     "base_uri": "https://localhost:8080/"
    },
    "id": "vONjp19J9hE8",
    "outputId": "77205e24-fd00-42c4-f7b6-e06e527c2cba"
   },
   "outputs": [
    {
     "name": "stdout",
     "output_type": "stream",
     "text": [
      "[8.57969940e-01 1.41918734e-01 1.10939254e-04 3.82234106e-07\n",
      " 3.78861476e-09]\n",
      "0\n"
     ]
    }
   ],
   "source": [
    "print(np.squeeze(tflite_results))\n",
    "print(np.argmax(np.squeeze(tflite_results)))"
   ]
  }
 ],
 "metadata": {
  "accelerator": "GPU",
  "colab": {
   "collapsed_sections": [],
   "name": "keypoint_classification_EN.ipynb",
   "provenance": [],
   "toc_visible": true
  },
  "kernelspec": {
   "display_name": "Python 3 (ipykernel)",
   "language": "python",
   "name": "python3"
  },
  "language_info": {
   "codemirror_mode": {
    "name": "ipython",
    "version": 3
   },
   "file_extension": ".py",
   "mimetype": "text/x-python",
   "name": "python",
   "nbconvert_exporter": "python",
   "pygments_lexer": "ipython3",
   "version": "3.11.5"
  }
 },
 "nbformat": 4,
 "nbformat_minor": 4
}
